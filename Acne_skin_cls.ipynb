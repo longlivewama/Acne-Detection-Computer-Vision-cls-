{
  "nbformat": 4,
  "nbformat_minor": 0,
  "metadata": {
    "colab": {
      "provenance": [],
      "gpuType": "T4"
    },
    "kernelspec": {
      "name": "python3",
      "display_name": "Python 3"
    },
    "language_info": {
      "name": "python"
    },
    "accelerator": "GPU"
  },
  "cells": [
    {
      "cell_type": "code",
      "execution_count": 2,
      "metadata": {
        "colab": {
          "base_uri": "https://localhost:8080/"
        },
        "id": "eH5HvF_VNKam",
        "outputId": "c7dbb47b-0cc6-44fe-c74f-1d72e3b78d10"
      },
      "outputs": [
        {
          "output_type": "stream",
          "name": "stdout",
          "text": [
            "\u001b[?25l   \u001b[90m━━━━━━━━━━━━━━━━━━━━━━━━━━━━━━━━━━━━━━━━\u001b[0m \u001b[32m0.0/1.0 MB\u001b[0m \u001b[31m?\u001b[0m eta \u001b[36m-:--:--\u001b[0m\r\u001b[2K   \u001b[90m━━━━━━━━━━━━━━━━━━━━━━━━━━━━━━━━━━━━━━━━\u001b[0m \u001b[32m1.0/1.0 MB\u001b[0m \u001b[31m58.1 MB/s\u001b[0m eta \u001b[36m0:00:00\u001b[0m\n",
            "\u001b[?25h\u001b[?25l   \u001b[90m━━━━━━━━━━━━━━━━━━━━━━━━━━━━━━━━━━━━━━━━\u001b[0m \u001b[32m0.0/88.6 kB\u001b[0m \u001b[31m?\u001b[0m eta \u001b[36m-:--:--\u001b[0m\r\u001b[2K   \u001b[90m━━━━━━━━━━━━━━━━━━━━━━━━━━━━━━━━━━━━━━━━\u001b[0m \u001b[32m88.6/88.6 kB\u001b[0m \u001b[31m8.5 MB/s\u001b[0m eta \u001b[36m0:00:00\u001b[0m\n",
            "\u001b[2K   \u001b[90m━━━━━━━━━━━━━━━━━━━━━━━━━━━━━━━━━━━━━━━━\u001b[0m \u001b[32m66.8/66.8 kB\u001b[0m \u001b[31m7.0 MB/s\u001b[0m eta \u001b[36m0:00:00\u001b[0m\n",
            "\u001b[2K   \u001b[90m━━━━━━━━━━━━━━━━━━━━━━━━━━━━━━━━━━━━━━━━\u001b[0m \u001b[32m49.9/49.9 MB\u001b[0m \u001b[31m20.0 MB/s\u001b[0m eta \u001b[36m0:00:00\u001b[0m\n",
            "\u001b[2K   \u001b[90m━━━━━━━━━━━━━━━━━━━━━━━━━━━━━━━━━━━━━━━━\u001b[0m \u001b[32m1.4/1.4 MB\u001b[0m \u001b[31m79.5 MB/s\u001b[0m eta \u001b[36m0:00:00\u001b[0m\n",
            "\u001b[2K   \u001b[90m━━━━━━━━━━━━━━━━━━━━━━━━━━━━━━━━━━━━━━━━\u001b[0m \u001b[32m4.2/4.2 MB\u001b[0m \u001b[31m114.6 MB/s\u001b[0m eta \u001b[36m0:00:00\u001b[0m\n",
            "\u001b[?25hCreating new Ultralytics Settings v0.0.6 file ✅ \n",
            "View Ultralytics Settings with 'yolo settings' or at '/root/.config/Ultralytics/settings.json'\n",
            "Update Settings with 'yolo settings key=value', i.e. 'yolo settings runs_dir=path/to/dir'. For help see https://docs.ultralytics.com/quickstart/#ultralytics-settings.\n"
          ]
        }
      ],
      "source": [
        "!pip install -q ultralytics roboflow\n",
        "\n",
        "from ultralytics import YOLO\n",
        "from roboflow import Roboflow\n",
        "import os, glob\n"
      ]
    },
    {
      "cell_type": "code",
      "source": [
        "\n",
        "from roboflow import Roboflow\n",
        "rf = Roboflow(api_key=\"XpMwhGeTQsdlI8UuG4OG\")\n",
        "project = rf.workspace(\"bangkit-academy-rnfpg\").project(\"acne-detection-g5vvz\")\n",
        "version = project.version(1)\n",
        "dataset = version.download(\"folder\")\n",
        "\n",
        "\n",
        "data_dir = dataset.location  # e.g., '/content/Acne-Detection-1'\n",
        "print(\"Dataset path:\", data_dir)\n",
        "print(\"Subfolders:\", os.listdir(data_dir))\n"
      ],
      "metadata": {
        "colab": {
          "base_uri": "https://localhost:8080/"
        },
        "id": "XXWDm6LmNpR3",
        "outputId": "4d7a115c-18a4-49a8-a202-354423d77582"
      },
      "execution_count": 8,
      "outputs": [
        {
          "output_type": "stream",
          "name": "stdout",
          "text": [
            "loading Roboflow workspace...\n",
            "loading Roboflow project...\n"
          ]
        },
        {
          "output_type": "stream",
          "name": "stderr",
          "text": [
            "Downloading Dataset Version Zip in Acne-detection-1 to folder:: 100%|██████████| 82537/82537 [00:06<00:00, 13472.42it/s]"
          ]
        },
        {
          "output_type": "stream",
          "name": "stdout",
          "text": [
            "\n"
          ]
        },
        {
          "output_type": "stream",
          "name": "stderr",
          "text": [
            "\n",
            "Extracting Dataset Version Zip to Acne-detection-1 in folder:: 100%|██████████| 20967/20967 [00:03<00:00, 5262.26it/s]"
          ]
        },
        {
          "output_type": "stream",
          "name": "stdout",
          "text": [
            "Dataset path: /content/Acne-detection-1\n",
            "Subfolders: ['valid', 'train', 'README.dataset.txt', 'test', 'README.roboflow.txt']\n"
          ]
        },
        {
          "output_type": "stream",
          "name": "stderr",
          "text": [
            "\n"
          ]
        }
      ]
    },
    {
      "cell_type": "code",
      "source": [
        "# Create and train\n",
        "model = YOLO(\"yolov8n-cls.pt\")\n",
        "\n",
        "results = model.train(\n",
        "    data=data_dir,     # Root that contains train/val/test split with class subfolders\n",
        "    epochs=50,\n",
        "    imgsz=224,\n",
        "    batch=32,\n",
        "    patience=10,\n",
        "    optimizer=\"Adam\",\n",
        "    lr0=1e-3,\n",
        "    val=True,\n",
        "    verbose=True,\n",
        ")\n",
        "\n",
        "# Best weights path\n",
        "best_ckpt = model.ckpt_path if hasattr(model, \"ckpt_path\") else model.trainer.best\n",
        "print(\"Best weights saved at:\", best_ckpt)\n"
      ],
      "metadata": {
        "colab": {
          "base_uri": "https://localhost:8080/"
        },
        "id": "f9SeriN0OCeK",
        "outputId": "386b7c1b-1ca0-4b85-dbd6-01147d08bed0"
      },
      "execution_count": 9,
      "outputs": [
        {
          "output_type": "stream",
          "name": "stderr",
          "text": [
            "Downloading https://github.com/ultralytics/assets/releases/download/v8.3.0/yolov8n-cls.pt to 'yolov8n-cls.pt': 100%|██████████| 5.31M/5.31M [00:00<00:00, 153MB/s]"
          ]
        },
        {
          "output_type": "stream",
          "name": "stdout",
          "text": [
            "Ultralytics 8.3.182 🚀 Python-3.12.11 torch-2.8.0+cu126 CUDA:0 (Tesla T4, 15095MiB)\n",
            "\u001b[34m\u001b[1mengine/trainer: \u001b[0magnostic_nms=False, amp=True, augment=False, auto_augment=randaugment, batch=32, bgr=0.0, box=7.5, cache=False, cfg=None, classes=None, close_mosaic=10, cls=0.5, conf=None, copy_paste=0.0, copy_paste_mode=flip, cos_lr=False, cutmix=0.0, data=/content/Acne-detection-1, degrees=0.0, deterministic=True, device=None, dfl=1.5, dnn=False, dropout=0.0, dynamic=False, embed=None, epochs=50, erasing=0.4, exist_ok=False, fliplr=0.5, flipud=0.0, format=torchscript, fraction=1.0, freeze=None, half=False, hsv_h=0.015, hsv_s=0.7, hsv_v=0.4, imgsz=224, int8=False, iou=0.7, keras=False, kobj=1.0, line_width=None, lr0=0.001, lrf=0.01, mask_ratio=4, max_det=300, mixup=0.0, mode=train, model=yolov8n-cls.pt, momentum=0.937, mosaic=1.0, multi_scale=False, name=train, nbs=64, nms=False, opset=None, optimize=False, optimizer=Adam, overlap_mask=True, patience=10, perspective=0.0, plots=True, pose=12.0, pretrained=True, profile=False, project=None, rect=False, resume=False, retina_masks=False, save=True, save_conf=False, save_crop=False, save_dir=runs/classify/train, save_frames=False, save_json=False, save_period=-1, save_txt=False, scale=0.5, seed=0, shear=0.0, show=False, show_boxes=True, show_conf=True, show_labels=True, simplify=True, single_cls=False, source=None, split=val, stream_buffer=False, task=classify, time=None, tracker=botsort.yaml, translate=0.1, val=True, verbose=True, vid_stride=1, visualize=False, warmup_bias_lr=0.1, warmup_epochs=3.0, warmup_momentum=0.8, weight_decay=0.0005, workers=8, workspace=None\n"
          ]
        },
        {
          "output_type": "stream",
          "name": "stderr",
          "text": [
            "\n"
          ]
        },
        {
          "output_type": "stream",
          "name": "stdout",
          "text": [
            "\u001b[34m\u001b[1mtrain:\u001b[0m /content/Acne-detection-1/train... found 17555 images in 568 classes ✅ \n",
            "ERROR ❌ \u001b[34m\u001b[1mval:\u001b[0m /content/Acne-detection-1/valid... found 1591 images in 254 classes (requires 568 classes, not 254)\n",
            "ERROR ❌ \u001b[34m\u001b[1mtest:\u001b[0m /content/Acne-detection-1/test... found 845 images in 149 classes (requires 568 classes, not 149)\n",
            "Overriding model.yaml nc=1000 with nc=568\n",
            "\n",
            "                   from  n    params  module                                       arguments                     \n",
            "  0                  -1  1       464  ultralytics.nn.modules.conv.Conv             [3, 16, 3, 2]                 \n",
            "  1                  -1  1      4672  ultralytics.nn.modules.conv.Conv             [16, 32, 3, 2]                \n",
            "  2                  -1  1      7360  ultralytics.nn.modules.block.C2f             [32, 32, 1, True]             \n",
            "  3                  -1  1     18560  ultralytics.nn.modules.conv.Conv             [32, 64, 3, 2]                \n",
            "  4                  -1  2     49664  ultralytics.nn.modules.block.C2f             [64, 64, 2, True]             \n",
            "  5                  -1  1     73984  ultralytics.nn.modules.conv.Conv             [64, 128, 3, 2]               \n",
            "  6                  -1  2    197632  ultralytics.nn.modules.block.C2f             [128, 128, 2, True]           \n",
            "  7                  -1  1    295424  ultralytics.nn.modules.conv.Conv             [128, 256, 3, 2]              \n",
            "  8                  -1  1    460288  ultralytics.nn.modules.block.C2f             [256, 256, 1, True]           \n",
            "  9                  -1  1   1057848  ultralytics.nn.modules.head.Classify         [256, 568]                    \n",
            "YOLOv8n-cls summary: 56 layers, 2,165,896 parameters, 2,165,896 gradients, 3.9 GFLOPs\n",
            "Transferred 156/158 items from pretrained weights\n",
            "\u001b[34m\u001b[1mAMP: \u001b[0mrunning Automatic Mixed Precision (AMP) checks...\n"
          ]
        },
        {
          "output_type": "stream",
          "name": "stderr",
          "text": [
            "Downloading https://github.com/ultralytics/assets/releases/download/v8.3.0/yolo11n.pt to 'yolo11n.pt': 100%|██████████| 5.35M/5.35M [00:00<00:00, 143MB/s]\n"
          ]
        },
        {
          "output_type": "stream",
          "name": "stdout",
          "text": [
            "\u001b[34m\u001b[1mAMP: \u001b[0mchecks passed ✅\n",
            "\u001b[34m\u001b[1mtrain: \u001b[0mFast image access ✅ (ping: 0.0±0.0 ms, read: 182.4±64.7 MB/s, size: 3.5 KB)\n"
          ]
        },
        {
          "output_type": "stream",
          "name": "stderr",
          "text": [
            "\u001b[34m\u001b[1mtrain: \u001b[0mScanning /content/Acne-detection-1/train... 17555 images, 0 corrupt: 100%|██████████| 17555/17555 [00:03<00:00, 5461.67it/s]\n"
          ]
        },
        {
          "output_type": "stream",
          "name": "stdout",
          "text": [
            "\u001b[34m\u001b[1mtrain: \u001b[0mNew cache created: /content/Acne-detection-1/train.cache\n",
            "\u001b[34m\u001b[1mval: \u001b[0mFast image access ✅ (ping: 0.0±0.0 ms, read: 111.0±50.1 MB/s, size: 3.3 KB)\n"
          ]
        },
        {
          "output_type": "stream",
          "name": "stderr",
          "text": [
            "\u001b[34m\u001b[1mval: \u001b[0mScanning /content/Acne-detection-1/valid... 1591 images, 0 corrupt: 100%|██████████| 1591/1591 [00:00<00:00, 2840.27it/s]\n"
          ]
        },
        {
          "output_type": "stream",
          "name": "stdout",
          "text": [
            "\u001b[34m\u001b[1mval: \u001b[0mNew cache created: /content/Acne-detection-1/valid.cache\n",
            "\u001b[34m\u001b[1moptimizer:\u001b[0m Adam(lr=0.001, momentum=0.937) with parameter groups 26 weight(decay=0.0), 27 weight(decay=0.0005), 27 bias(decay=0.0)\n",
            "Image sizes 224 train, 224 val\n",
            "Using 2 dataloader workers\n",
            "Logging results to \u001b[1mruns/classify/train\u001b[0m\n",
            "Starting training for 50 epochs...\n",
            "\n",
            "      Epoch    GPU_mem       loss  Instances       Size\n"
          ]
        },
        {
          "output_type": "stream",
          "name": "stderr",
          "text": [
            "       1/50     0.434G      4.965         32        224:   1%|▏         | 8/549 [00:02<01:32,  5.83it/s]\n",
            "       1/50     0.434G      4.822         32        224:   2%|▏         | 9/549 [00:02<01:34,  5.72it/s]\n",
            "Downloading https://ultralytics.com/assets/Arial.ttf to '/root/.config/Ultralytics/Arial.ttf': 100%|██████████| 755k/755k [00:00<00:00, 4.01MB/s]\n",
            "       1/50     0.445G      1.936         19        224: 100%|██████████| 549/549 [01:32<00:00,  5.95it/s]\n",
            "               classes   top1_acc   top5_acc: 100%|██████████| 25/25 [00:03<00:00,  7.93it/s]"
          ]
        },
        {
          "output_type": "stream",
          "name": "stdout",
          "text": [
            "                   all      0.666      0.672\n"
          ]
        },
        {
          "output_type": "stream",
          "name": "stderr",
          "text": [
            "\n"
          ]
        },
        {
          "output_type": "stream",
          "name": "stdout",
          "text": [
            "\n",
            "      Epoch    GPU_mem       loss  Instances       Size\n"
          ]
        },
        {
          "output_type": "stream",
          "name": "stderr",
          "text": [
            "       2/50     0.557G      1.671         19        224: 100%|██████████| 549/549 [01:28<00:00,  6.17it/s]\n",
            "               classes   top1_acc   top5_acc: 100%|██████████| 25/25 [00:03<00:00,  8.27it/s]"
          ]
        },
        {
          "output_type": "stream",
          "name": "stdout",
          "text": [
            "                   all      0.669      0.674\n"
          ]
        },
        {
          "output_type": "stream",
          "name": "stderr",
          "text": [
            "\n"
          ]
        },
        {
          "output_type": "stream",
          "name": "stdout",
          "text": [
            "\n",
            "      Epoch    GPU_mem       loss  Instances       Size\n"
          ]
        },
        {
          "output_type": "stream",
          "name": "stderr",
          "text": [
            "       3/50     0.562G      1.524         19        224: 100%|██████████| 549/549 [01:27<00:00,  6.26it/s]\n",
            "               classes   top1_acc   top5_acc: 100%|██████████| 25/25 [00:03<00:00,  7.68it/s]"
          ]
        },
        {
          "output_type": "stream",
          "name": "stdout",
          "text": [
            "                   all      0.667      0.673\n"
          ]
        },
        {
          "output_type": "stream",
          "name": "stderr",
          "text": [
            "\n"
          ]
        },
        {
          "output_type": "stream",
          "name": "stdout",
          "text": [
            "\n",
            "      Epoch    GPU_mem       loss  Instances       Size\n"
          ]
        },
        {
          "output_type": "stream",
          "name": "stderr",
          "text": [
            "       4/50     0.574G      1.374         19        224: 100%|██████████| 549/549 [01:26<00:00,  6.33it/s]\n",
            "               classes   top1_acc   top5_acc: 100%|██████████| 25/25 [00:02<00:00,  8.47it/s]"
          ]
        },
        {
          "output_type": "stream",
          "name": "stdout",
          "text": [
            "                   all      0.666      0.675\n"
          ]
        },
        {
          "output_type": "stream",
          "name": "stderr",
          "text": [
            "\n"
          ]
        },
        {
          "output_type": "stream",
          "name": "stdout",
          "text": [
            "\n",
            "      Epoch    GPU_mem       loss  Instances       Size\n"
          ]
        },
        {
          "output_type": "stream",
          "name": "stderr",
          "text": [
            "       5/50     0.578G       1.23         19        224: 100%|██████████| 549/549 [01:28<00:00,  6.21it/s]\n",
            "               classes   top1_acc   top5_acc: 100%|██████████| 25/25 [00:03<00:00,  8.02it/s]"
          ]
        },
        {
          "output_type": "stream",
          "name": "stdout",
          "text": [
            "                   all      0.669      0.672\n"
          ]
        },
        {
          "output_type": "stream",
          "name": "stderr",
          "text": [
            "\n"
          ]
        },
        {
          "output_type": "stream",
          "name": "stdout",
          "text": [
            "\n",
            "      Epoch    GPU_mem       loss  Instances       Size\n"
          ]
        },
        {
          "output_type": "stream",
          "name": "stderr",
          "text": [
            "       6/50      0.59G      1.101         19        224: 100%|██████████| 549/549 [01:28<00:00,  6.19it/s]\n",
            "               classes   top1_acc   top5_acc: 100%|██████████| 25/25 [00:03<00:00,  8.26it/s]"
          ]
        },
        {
          "output_type": "stream",
          "name": "stdout",
          "text": [
            "                   all      0.669      0.675\n"
          ]
        },
        {
          "output_type": "stream",
          "name": "stderr",
          "text": [
            "\n"
          ]
        },
        {
          "output_type": "stream",
          "name": "stdout",
          "text": [
            "\n",
            "      Epoch    GPU_mem       loss  Instances       Size\n"
          ]
        },
        {
          "output_type": "stream",
          "name": "stderr",
          "text": [
            "       7/50     0.594G     0.9901         19        224: 100%|██████████| 549/549 [01:29<00:00,  6.15it/s]\n",
            "               classes   top1_acc   top5_acc: 100%|██████████| 25/25 [00:03<00:00,  8.10it/s]"
          ]
        },
        {
          "output_type": "stream",
          "name": "stdout",
          "text": [
            "                   all       0.67      0.674\n"
          ]
        },
        {
          "output_type": "stream",
          "name": "stderr",
          "text": [
            "\n"
          ]
        },
        {
          "output_type": "stream",
          "name": "stdout",
          "text": [
            "\n",
            "      Epoch    GPU_mem       loss  Instances       Size\n"
          ]
        },
        {
          "output_type": "stream",
          "name": "stderr",
          "text": [
            "       8/50     0.605G     0.8855         19        224: 100%|██████████| 549/549 [01:29<00:00,  6.16it/s]\n",
            "               classes   top1_acc   top5_acc: 100%|██████████| 25/25 [00:03<00:00,  8.30it/s]"
          ]
        },
        {
          "output_type": "stream",
          "name": "stdout",
          "text": [
            "                   all      0.664      0.675\n"
          ]
        },
        {
          "output_type": "stream",
          "name": "stderr",
          "text": [
            "\n"
          ]
        },
        {
          "output_type": "stream",
          "name": "stdout",
          "text": [
            "\n",
            "      Epoch    GPU_mem       loss  Instances       Size\n"
          ]
        },
        {
          "output_type": "stream",
          "name": "stderr",
          "text": [
            "       9/50     0.611G     0.8067         19        224: 100%|██████████| 549/549 [01:30<00:00,  6.09it/s]\n",
            "               classes   top1_acc   top5_acc: 100%|██████████| 25/25 [00:03<00:00,  8.24it/s]"
          ]
        },
        {
          "output_type": "stream",
          "name": "stdout",
          "text": [
            "                   all      0.664      0.674\n"
          ]
        },
        {
          "output_type": "stream",
          "name": "stderr",
          "text": [
            "\n"
          ]
        },
        {
          "output_type": "stream",
          "name": "stdout",
          "text": [
            "\n",
            "      Epoch    GPU_mem       loss  Instances       Size\n"
          ]
        },
        {
          "output_type": "stream",
          "name": "stderr",
          "text": [
            "      10/50     0.623G     0.7351         19        224: 100%|██████████| 549/549 [01:30<00:00,  6.07it/s]\n",
            "               classes   top1_acc   top5_acc: 100%|██████████| 25/25 [00:02<00:00,  8.35it/s]"
          ]
        },
        {
          "output_type": "stream",
          "name": "stdout",
          "text": [
            "                   all      0.662      0.674\n"
          ]
        },
        {
          "output_type": "stream",
          "name": "stderr",
          "text": [
            "\n"
          ]
        },
        {
          "output_type": "stream",
          "name": "stdout",
          "text": [
            "\n",
            "      Epoch    GPU_mem       loss  Instances       Size\n"
          ]
        },
        {
          "output_type": "stream",
          "name": "stderr",
          "text": [
            "      11/50     0.627G     0.6787         19        224: 100%|██████████| 549/549 [01:29<00:00,  6.11it/s]\n",
            "               classes   top1_acc   top5_acc: 100%|██████████| 25/25 [00:03<00:00,  8.25it/s]"
          ]
        },
        {
          "output_type": "stream",
          "name": "stdout",
          "text": [
            "                   all      0.662      0.674\n"
          ]
        },
        {
          "output_type": "stream",
          "name": "stderr",
          "text": [
            "\n"
          ]
        },
        {
          "output_type": "stream",
          "name": "stdout",
          "text": [
            "\n",
            "      Epoch    GPU_mem       loss  Instances       Size\n"
          ]
        },
        {
          "output_type": "stream",
          "name": "stderr",
          "text": [
            "      12/50     0.639G      0.609         19        224: 100%|██████████| 549/549 [01:28<00:00,  6.22it/s]\n",
            "               classes   top1_acc   top5_acc: 100%|██████████| 25/25 [00:03<00:00,  8.26it/s]"
          ]
        },
        {
          "output_type": "stream",
          "name": "stdout",
          "text": [
            "                   all      0.662      0.674\n"
          ]
        },
        {
          "output_type": "stream",
          "name": "stderr",
          "text": [
            "\n"
          ]
        },
        {
          "output_type": "stream",
          "name": "stdout",
          "text": [
            "\n",
            "      Epoch    GPU_mem       loss  Instances       Size\n"
          ]
        },
        {
          "output_type": "stream",
          "name": "stderr",
          "text": [
            "      13/50     0.643G     0.5714         19        224: 100%|██████████| 549/549 [01:28<00:00,  6.22it/s]\n",
            "               classes   top1_acc   top5_acc: 100%|██████████| 25/25 [00:03<00:00,  7.91it/s]"
          ]
        },
        {
          "output_type": "stream",
          "name": "stdout",
          "text": [
            "                   all      0.661      0.673\n"
          ]
        },
        {
          "output_type": "stream",
          "name": "stderr",
          "text": [
            "\n"
          ]
        },
        {
          "output_type": "stream",
          "name": "stdout",
          "text": [
            "\n",
            "      Epoch    GPU_mem       loss  Instances       Size\n"
          ]
        },
        {
          "output_type": "stream",
          "name": "stderr",
          "text": [
            "      14/50     0.654G     0.5277         19        224: 100%|██████████| 549/549 [01:28<00:00,  6.23it/s]\n",
            "               classes   top1_acc   top5_acc: 100%|██████████| 25/25 [00:03<00:00,  8.21it/s]"
          ]
        },
        {
          "output_type": "stream",
          "name": "stdout",
          "text": [
            "                   all      0.661      0.675\n"
          ]
        },
        {
          "output_type": "stream",
          "name": "stderr",
          "text": [
            "\n"
          ]
        },
        {
          "output_type": "stream",
          "name": "stdout",
          "text": [
            "\n",
            "      Epoch    GPU_mem       loss  Instances       Size\n"
          ]
        },
        {
          "output_type": "stream",
          "name": "stderr",
          "text": [
            "      15/50      0.66G     0.4945         19        224: 100%|██████████| 549/549 [01:28<00:00,  6.19it/s]\n",
            "               classes   top1_acc   top5_acc: 100%|██████████| 25/25 [00:03<00:00,  7.96it/s]"
          ]
        },
        {
          "output_type": "stream",
          "name": "stdout",
          "text": [
            "                   all      0.661      0.675\n"
          ]
        },
        {
          "output_type": "stream",
          "name": "stderr",
          "text": [
            "\n"
          ]
        },
        {
          "output_type": "stream",
          "name": "stdout",
          "text": [
            "\n",
            "      Epoch    GPU_mem       loss  Instances       Size\n"
          ]
        },
        {
          "output_type": "stream",
          "name": "stderr",
          "text": [
            "      16/50     0.672G     0.4521         19        224: 100%|██████████| 549/549 [01:27<00:00,  6.27it/s]\n",
            "               classes   top1_acc   top5_acc: 100%|██████████| 25/25 [00:03<00:00,  7.98it/s]"
          ]
        },
        {
          "output_type": "stream",
          "name": "stdout",
          "text": [
            "                   all      0.661      0.674\n",
            "\u001b[34m\u001b[1mEarlyStopping: \u001b[0mTraining stopped early as no improvement observed in last 10 epochs. Best results observed at epoch 6, best model saved as best.pt.\n",
            "To update EarlyStopping(patience=10) pass a new patience value, i.e. `patience=300` or use `patience=0` to disable EarlyStopping.\n"
          ]
        },
        {
          "output_type": "stream",
          "name": "stderr",
          "text": [
            "\n"
          ]
        },
        {
          "output_type": "stream",
          "name": "stdout",
          "text": [
            "\n",
            "16 epochs completed in 0.410 hours.\n",
            "Optimizer stripped from runs/classify/train/weights/last.pt, 4.4MB\n",
            "Optimizer stripped from runs/classify/train/weights/best.pt, 4.4MB\n",
            "\n",
            "Validating runs/classify/train/weights/best.pt...\n",
            "Ultralytics 8.3.182 🚀 Python-3.12.11 torch-2.8.0+cu126 CUDA:0 (Tesla T4, 15095MiB)\n",
            "YOLOv8n-cls summary (fused): 30 layers, 2,162,488 parameters, 0 gradients, 3.9 GFLOPs\n",
            "\u001b[34m\u001b[1mtrain:\u001b[0m /content/Acne-detection-1/train... found 17555 images in 568 classes ✅ \n",
            "ERROR ❌ \u001b[34m\u001b[1mval:\u001b[0m /content/Acne-detection-1/valid... found 1591 images in 254 classes (requires 568 classes, not 254)\n",
            "ERROR ❌ \u001b[34m\u001b[1mtest:\u001b[0m /content/Acne-detection-1/test... found 845 images in 149 classes (requires 568 classes, not 149)\n"
          ]
        },
        {
          "output_type": "stream",
          "name": "stderr",
          "text": [
            "               classes   top1_acc   top5_acc: 100%|██████████| 25/25 [00:03<00:00,  8.11it/s]\n"
          ]
        },
        {
          "output_type": "stream",
          "name": "stdout",
          "text": [
            "                   all      0.669      0.675\n",
            "Speed: 0.1ms preprocess, 0.2ms inference, 0.0ms loss, 0.0ms postprocess per image\n",
            "Results saved to \u001b[1mruns/classify/train\u001b[0m\n",
            "Best weights saved at: yolov8n-cls.pt\n"
          ]
        }
      ]
    },
    {
      "cell_type": "code",
      "source": [
        "from ultralytics import YOLO\n",
        "import os\n",
        "import glob\n",
        "\n",
        "# Load the best model\n",
        "model = YOLO('/content/best.pt')\n",
        "\n",
        "# Get class names from the loaded model\n",
        "class_names = model.names\n",
        "print(\"Class Names from Model:\", class_names)\n",
        "\n",
        "test_image_dir = '/content/Acne-detection-1/test/'\n",
        "subdirectories = [os.path.join(test_image_dir, d) for d in os.listdir(test_image_dir) if os.path.isdir(os.path.join(test_image_dir, d))]\n",
        "\n",
        "if subdirectories:\n",
        "    # Get the first image file from the first subdirectory\n",
        "    first_subdirectory = subdirectories[0]\n",
        "    image_files = glob.glob(os.path.join(first_subdirectory, '*'))\n",
        "    if image_files:\n",
        "        example_image_path = image_files[0]\n",
        "        print(f\"Using example image: {example_image_path}\")\n",
        "\n",
        "        # Example prediction\n",
        "        results = model(example_image_path)\n",
        "\n",
        "        # Display the results\n",
        "        for r in results:\n",
        "            print(\"Prediction Results:\")\n",
        "            # Print top1 prediction with class name\n",
        "            top1_index = r.probs.top1\n",
        "            top1_conf = r.probs.top1conf\n",
        "            print(f\"  Top 1 Prediction: {class_names[top1_index]} (Confidence: {top1_conf:.4f})\")\n",
        "\n",
        "            # Print top5 predictions with class names\n",
        "            top5_indices = r.probs.top5\n",
        "            top5_confs = r.probs.top5conf\n",
        "            print(\"  Top 5 Predictions:\")\n",
        "            for i in range(len(top5_indices)):\n",
        "                print(f\"    - {class_names[top5_indices[i]]} (Confidence: {top5_confs[i]:.4f})\")\n",
        "\n",
        "    else:\n",
        "        print(f\"No image files found in the subdirectory: {first_subdirectory}\")\n",
        "else:\n",
        "    print(f\"No subdirectories found in the test directory: {test_image_dir}\")"
      ],
      "metadata": {
        "colab": {
          "base_uri": "https://localhost:8080/",
          "height": 260
        },
        "id": "Bi3n27i2q8Zp",
        "outputId": "810bf9ca-f47d-40f4-acc7-1a2c0e0c8248"
      },
      "execution_count": 7,
      "outputs": [
        {
          "output_type": "stream",
          "name": "stdout",
          "text": [
            "Class Names from Model: {0: 'Acne', 1: 'Acne Blackhead', 2: 'Acne Blackhead Crystanlline', 3: 'Acne Blackhead Crystanlline Papular', 4: 'Acne Blackhead Crystanlline Purulent', 5: 'Acne Blackhead Cystic', 6: 'Acne Blackhead Cystic Folliculitis', 7: 'Acne Blackhead Cystic Folliculitis Keloid Papular', 8: 'Acne Blackhead Cystic Folliculitis Milium Papular Purulent', 9: 'Acne Blackhead Cystic Folliculitis Papular Purulent', 10: 'Acne Blackhead Cystic Keloid Milium Papular', 11: 'Acne Blackhead Cystic Keloid Milium Papular Purulent', 12: 'Acne Blackhead Cystic Keloid Papular Purulent', 13: 'Acne Blackhead Cystic Keloid Purulent', 14: 'Acne Blackhead Cystic Milium', 15: 'Acne Blackhead Cystic Milium Papular', 16: 'Acne Blackhead Cystic Milium Papular Purulent', 17: 'Acne Blackhead Cystic Papular', 18: 'Acne Blackhead Cystic Papular Purulent', 19: 'Acne Blackhead Cystic Purulent', 20: 'Acne Blackhead Folliculitis Keloid', 21: 'Acne Blackhead Folliculitis Keloid Milium Papular Purulent', 22: 'Acne Blackhead Folliculitis Keloid Milium Purulent', 23: 'Acne Blackhead Folliculitis Keloid Papular Purulent', 24: 'Acne Blackhead Folliculitis Milium Papular', 25: 'Acne Blackhead Folliculitis Milium Papular Purulent', 26: 'Acne Blackhead Folliculitis Papular', 27: 'Acne Blackhead Folliculitis Papular Purulent', 28: 'Acne Blackhead Folliculitis Purulent', 29: 'Acne Blackhead Keloid', 30: 'Acne Blackhead Keloid Milium', 31: 'Acne Blackhead Keloid Milium Papular', 32: 'Acne Blackhead Keloid Papular', 33: 'Acne Blackhead Keloid Papular Purulent', 34: 'Acne Blackhead Keloid Purulent', 35: 'Acne Blackhead Milium', 36: 'Acne Blackhead Milium Papular', 37: 'Acne Blackhead Milium Papular Purulent', 38: 'Acne Blackhead Milium Purulent', 39: 'Acne Blackhead Papular', 40: 'Acne Blackhead Papular Purulent', 41: 'Acne Blackhead Purulent', 42: 'Acne Conglobata Papular Purulent', 43: 'Acne Conglobata Purulent', 44: 'Acne Crystanlline Cystic', 45: 'Acne Crystanlline Cystic Purulent', 46: 'Acne Crystanlline Keloid Papular Purulent', 47: 'Acne Crystanlline Keloid Purulent', 48: 'Acne Crystanlline Papular Purulent', 49: 'Acne Crystanlline Purulent', 50: 'Acne Cystic', 51: 'Acne Cystic Folliculitis Milium Papular Purulent', 52: 'Acne Cystic Folliculitis Papular', 53: 'Acne Cystic Folliculitis Papular Purulent', 54: 'Acne Cystic Keloid Milium Papular', 55: 'Acne Cystic Keloid Milium Papular Purulent', 56: 'Acne Cystic Keloid Papular Purulent', 57: 'Acne Cystic Keloid Purulent', 58: 'Acne Cystic Milium Papular', 59: 'Acne Cystic Milium Papular Purulent', 60: 'Acne Cystic Milium Purulent', 61: 'Acne Cystic Papular', 62: 'Acne Cystic Papular Purulent', 63: 'Acne Cystic Purulent', 64: 'Acne Folliculitis', 65: 'Acne Folliculitis Keloid Milium', 66: 'Acne Folliculitis Keloid Papular Purulent', 67: 'Acne Folliculitis Papular', 68: 'Acne Folliculitis Papular Purulent', 69: 'Acne Folliculitis Purulent', 70: 'Acne Keloid', 71: 'Acne Keloid Milium', 72: 'Acne Keloid Milium Papular', 73: 'Acne Keloid Milium Papular Purulent', 74: 'Acne Keloid Papular', 75: 'Acne Keloid Papular Purulent', 76: 'Acne Milium', 77: 'Acne Milium Papular', 78: 'Acne Milium Papular Purulent', 79: 'Acne Milium Purulent', 80: 'Acne Papular', 81: 'Acne Papular Purulent', 82: 'Acne Purulent', 83: 'Blackhead', 84: 'Blackhead Crystanlline Cystic', 85: 'Blackhead Crystanlline Cystic Purulent', 86: 'Blackhead Crystanlline Folliculitis Papular Purulent', 87: 'Blackhead Crystanlline Papular', 88: 'Blackhead Crystanlline Papular Purulent', 89: 'Blackhead Crystanlline Purulent', 90: 'Blackhead Cystic', 91: 'Blackhead Cystic Flat_wart Keloid Papular Purulent Sebo-crystan-conglo', 92: 'Blackhead Cystic Flat_wart Keloid Papular Purulent Sebo-crystan-conglo Whitehead', 93: 'Blackhead Cystic Flat_wart Keloid Sebo-crystan-conglo Whitehead', 94: 'Blackhead Cystic Flat_wart Milium Papular Purulent Scars Sebo-crystan-conglo Whitehead', 95: 'Blackhead Cystic Flat_wart Milium Papular Sebo-crystan-conglo Whitehead', 96: 'Blackhead Cystic Flat_wart Papular Purulent Scars Sebo-crystan-conglo Whitehead', 97: 'Blackhead Cystic Flat_wart Papular Purulent Scars Whitehead', 98: 'Blackhead Cystic Flat_wart Papular Scars Sebo-crystan-conglo', 99: 'Blackhead Cystic Flat_wart Papular Scars Sebo-crystan-conglo Whitehead', 100: 'Blackhead Cystic Flat_wart Papular Scars Whitehead', 101: 'Blackhead Cystic Flat_wart Papular Whitehead', 102: 'Blackhead Cystic Flat_wart Purulent Scars Sebo-crystan-conglo Whitehead', 103: 'Blackhead Cystic Flat_wart Scars', 104: 'Blackhead Cystic Folliculitis Keloid Papular Purulent Sebo-crystan-conglo', 105: 'Blackhead Cystic Folliculitis Milium Purulent Sebo-crystan-conglo Whitehead', 106: 'Blackhead Cystic Folliculitis Papular Purulent', 107: 'Blackhead Cystic Folliculitis Papular Purulent Scars', 108: 'Blackhead Cystic Folliculitis Papular Purulent Scars Sebo-crystan-conglo', 109: 'Blackhead Cystic Folliculitis Papular Purulent Sebo-crystan-conglo', 110: 'Blackhead Cystic Folliculitis Purulent Whitehead', 111: 'Blackhead Cystic Keloid Milium Purulent', 112: 'Blackhead Cystic Keloid Papular Purulent Sebo-crystan-conglo', 113: 'Blackhead Cystic Keloid Papular Purulent Sebo-crystan-conglo Whitehead', 114: 'Blackhead Cystic Keloid Papular Scars Sebo-crystan-conglo', 115: 'Blackhead Cystic Keloid Papular Sebo-crystan-conglo Syringoma Whitehead', 116: 'Blackhead Cystic Keloid Papular Sebo-crystan-conglo Whitehead', 117: 'Blackhead Cystic Milium Papular Purulent', 118: 'Blackhead Cystic Milium Papular Purulent Scars Whitehead', 119: 'Blackhead Cystic Milium Papular Purulent Sebo-crystan-conglo Syringoma Whitehead', 120: 'Blackhead Cystic Milium Papular Purulent Whitehead', 121: 'Blackhead Cystic Milium Papular Scars', 122: 'Blackhead Cystic Milium Papular Scars Whitehead', 123: 'Blackhead Cystic Milium Papular Sebo-crystan-conglo Syringoma', 124: 'Blackhead Cystic Milium Papular Sebo-crystan-conglo Whitehead', 125: 'Blackhead Cystic Milium Papular Whitehead', 126: 'Blackhead Cystic Milium Purulent', 127: 'Blackhead Cystic Milium Purulent Scars Sebo-crystan-conglo', 128: 'Blackhead Cystic Milium Purulent Scars Sebo-crystan-conglo Whitehead', 129: 'Blackhead Cystic Milium Scars', 130: 'Blackhead Cystic Milium Scars Sebo-crystan-conglo', 131: 'Blackhead Cystic Papular', 132: 'Blackhead Cystic Papular Purulent Scars', 133: 'Blackhead Cystic Papular Purulent Scars Sebo-crystan-conglo', 134: 'Blackhead Cystic Papular Purulent Scars Sebo-crystan-conglo Whitehead', 135: 'Blackhead Cystic Papular Purulent Scars Whitehead', 136: 'Blackhead Cystic Papular Purulent Sebo-crystan-conglo', 137: 'Blackhead Cystic Papular Purulent Sebo-crystan-conglo Whitehead', 138: 'Blackhead Cystic Papular Purulent Syringoma Whitehead', 139: 'Blackhead Cystic Papular Purulent Whitehead', 140: 'Blackhead Cystic Papular Scars Sebo-crystan-conglo Whitehead', 141: 'Blackhead Cystic Papular Scars Syringoma', 142: 'Blackhead Cystic Papular Scars Whitehead', 143: 'Blackhead Cystic Papular Sebo-crystan-conglo Whitehead', 144: 'Blackhead Cystic Papular Whitehead', 145: 'Blackhead Cystic Purulent', 146: 'Blackhead Cystic Purulent Sebo-crystan-conglo Syringoma Whitehead', 147: 'Blackhead Cystic Purulent Syringoma Whitehead', 148: 'Blackhead Cystic Purulent Whitehead', 149: 'Blackhead Cystic Scars Sebo-crystan-conglo Whitehead', 150: 'Blackhead Flat_wart', 151: 'Blackhead Flat_wart Folliculitis Milium Papular Purulent Scars Sebo-crystan-conglo Whitehead', 152: 'Blackhead Flat_wart Folliculitis Milium Sebo-crystan-conglo Syringoma', 153: 'Blackhead Flat_wart Folliculitis Papular Purulent Scars Sebo-crystan-conglo', 154: 'Blackhead Flat_wart Folliculitis Papular Whitehead', 155: 'Blackhead Flat_wart Keloid', 156: 'Blackhead Flat_wart Keloid Milium Papular Purulent Scars Sebo-crystan-conglo', 157: 'Blackhead Flat_wart Keloid Papular Whitehead', 158: 'Blackhead Flat_wart Keloid Purulent Scars Sebo-crystan-conglo', 159: 'Blackhead Flat_wart Milium', 160: 'Blackhead Flat_wart Milium Papular Purulent Scars Syringoma Whitehead', 161: 'Blackhead Flat_wart Milium Papular Purulent Scars Whitehead', 162: 'Blackhead Flat_wart Milium Papular Purulent Whitehead', 163: 'Blackhead Flat_wart Milium Purulent Sebo-crystan-conglo', 164: 'Blackhead Flat_wart Milium Scars Whitehead', 165: 'Blackhead Flat_wart Papular', 166: 'Blackhead Flat_wart Papular Purulent', 167: 'Blackhead Flat_wart Papular Purulent Scars Sebo-crystan-conglo Whitehead', 168: 'Blackhead Flat_wart Papular Purulent Scars Whitehead', 169: 'Blackhead Flat_wart Papular Purulent Sebo-crystan-conglo', 170: 'Blackhead Flat_wart Papular Purulent Sebo-crystan-conglo Whitehead', 171: 'Blackhead Flat_wart Papular Purulent Whitehead', 172: 'Blackhead Flat_wart Papular Sebo-crystan-conglo', 173: 'Blackhead Flat_wart Papular Sebo-crystan-conglo Whitehead', 174: 'Blackhead Flat_wart Papular Whitehead', 175: 'Blackhead Flat_wart Purulent Sebo-crystan-conglo', 176: 'Blackhead Flat_wart Purulent Sebo-crystan-conglo Syringoma', 177: 'Blackhead Flat_wart Purulent Sebo-crystan-conglo Whitehead', 178: 'Blackhead Flat_wart Purulent Whitehead', 179: 'Blackhead Flat_wart Syringoma Whitehead', 180: 'Blackhead Flat_wart Whitehead', 181: 'Blackhead Folliculitis', 182: 'Blackhead Folliculitis Keloid', 183: 'Blackhead Folliculitis Keloid Milium Papular Purulent Scars Sebo-crystan-conglo', 184: 'Blackhead Folliculitis Keloid Milium Papular Purulent Whitehead', 185: 'Blackhead Folliculitis Keloid Milium Syringoma', 186: 'Blackhead Folliculitis Keloid Papular Purulent Whitehead', 187: 'Blackhead Folliculitis Milium Papular Purulent Scars Sebo-crystan-conglo Whitehead', 188: 'Blackhead Folliculitis Milium Papular Purulent Sebo-crystan-conglo', 189: 'Blackhead Folliculitis Milium Papular Sebo-crystan-conglo', 190: 'Blackhead Folliculitis Milium Syringoma Whitehead', 191: 'Blackhead Folliculitis Papular', 192: 'Blackhead Folliculitis Papular Purulent Scars Sebo-crystan-conglo', 193: 'Blackhead Folliculitis Papular Purulent Scars Sebo-crystan-conglo Whitehead', 194: 'Blackhead Folliculitis Papular Purulent Scars Whitehead', 195: 'Blackhead Folliculitis Papular Purulent Sebo-crystan-conglo', 196: 'Blackhead Folliculitis Papular Purulent Sebo-crystan-conglo Syringoma Whitehead', 197: 'Blackhead Folliculitis Papular Purulent Sebo-crystan-conglo Whitehead', 198: 'Blackhead Folliculitis Papular Purulent Whitehead', 199: 'Blackhead Folliculitis Papular Whitehead', 200: 'Blackhead Folliculitis Purulent Sebo-crystan-conglo Whitehead', 201: 'Blackhead Keloid', 202: 'Blackhead Keloid Milium Papular Purulent Sebo-crystan-conglo Whitehead', 203: 'Blackhead Keloid Milium Purulent Whitehead', 204: 'Blackhead Keloid Milium Scars Sebo-crystan-conglo', 205: 'Blackhead Keloid Papular', 206: 'Blackhead Keloid Papular Purulent Scars Sebo-crystan-conglo', 207: 'Blackhead Keloid Papular Purulent Scars Sebo-crystan-conglo Whitehead', 208: 'Blackhead Keloid Papular Purulent Scars Syringoma Whitehead', 209: 'Blackhead Keloid Papular Purulent Scars Whitehead', 210: 'Blackhead Keloid Papular Purulent Sebo-crystan-conglo', 211: 'Blackhead Keloid Papular Purulent Sebo-crystan-conglo Whitehead', 212: 'Blackhead Keloid Papular Scars', 213: 'Blackhead Keloid Papular Scars Sebo-crystan-conglo Whitehead', 214: 'Blackhead Keloid Papular Scars Whitehead', 215: 'Blackhead Keloid Papular Sebo-crystan-conglo', 216: 'Blackhead Keloid Papular Sebo-crystan-conglo Whitehead', 217: 'Blackhead Keloid Purulent', 218: 'Blackhead Keloid Purulent Sebo-crystan-conglo', 219: 'Blackhead Keloid Purulent Whitehead', 220: 'Blackhead Keloid Scars Syringoma', 221: 'Blackhead Milium', 222: 'Blackhead Milium Papular', 223: 'Blackhead Milium Papular Purulent', 224: 'Blackhead Milium Papular Purulent Scars Sebo-crystan-conglo', 225: 'Blackhead Milium Papular Purulent Scars Sebo-crystan-conglo Whitehead', 226: 'Blackhead Milium Papular Purulent Scars Whitehead', 227: 'Blackhead Milium Papular Purulent Sebo-crystan-conglo', 228: 'Blackhead Milium Papular Purulent Sebo-crystan-conglo Whitehead', 229: 'Blackhead Milium Papular Purulent Whitehead', 230: 'Blackhead Milium Papular Scars', 231: 'Blackhead Milium Papular Scars Whitehead', 232: 'Blackhead Milium Papular Sebo-crystan-conglo', 233: 'Blackhead Milium Papular Sebo-crystan-conglo Whitehead', 234: 'Blackhead Milium Purulent', 235: 'Blackhead Milium Purulent Scars Sebo-crystan-conglo', 236: 'Blackhead Milium Purulent Scars Sebo-crystan-conglo Syringoma', 237: 'Blackhead Milium Purulent Syringoma', 238: 'Blackhead Milium Scars', 239: 'Blackhead Milium Sebo-crystan-conglo', 240: 'Blackhead Milium Sebo-crystan-conglo Whitehead', 241: 'Blackhead Milium Syringoma', 242: 'Blackhead Milium Syringoma Whitehead', 243: 'Blackhead Milium Whitehead', 244: 'Blackhead Papular', 245: 'Blackhead Papular Purulent', 246: 'Blackhead Papular Purulent Scars Sebo-crystan-conglo', 247: 'Blackhead Papular Purulent Scars Sebo-crystan-conglo Syringoma Whitehead', 248: 'Blackhead Papular Purulent Scars Sebo-crystan-conglo Whitehead', 249: 'Blackhead Papular Purulent Scars Syringoma Whitehead', 250: 'Blackhead Papular Purulent Scars Whitehead', 251: 'Blackhead Papular Purulent Sebo-crystan-conglo', 252: 'Blackhead Papular Purulent Sebo-crystan-conglo Whitehead', 253: 'Blackhead Papular Purulent Syringoma Whitehead', 254: 'Blackhead Papular Purulent Whitehead', 255: 'Blackhead Papular Scars', 256: 'Blackhead Papular Scars Sebo-crystan-conglo', 257: 'Blackhead Papular Scars Sebo-crystan-conglo Syringoma', 258: 'Blackhead Papular Scars Sebo-crystan-conglo Whitehead', 259: 'Blackhead Papular Scars Whitehead', 260: 'Blackhead Papular Sebo-crystan-conglo Syringoma', 261: 'Blackhead Papular Sebo-crystan-conglo Syringoma Whitehead', 262: 'Blackhead Papular Sebo-crystan-conglo Whitehead', 263: 'Blackhead Papular Syringoma Whitehead', 264: 'Blackhead Papular Whitehead', 265: 'Blackhead Purulent', 266: 'Blackhead Purulent Scars Whitehead', 267: 'Blackhead Purulent Sebo-crystan-conglo Syringoma Whitehead', 268: 'Blackhead Purulent Sebo-crystan-conglo Whitehead', 269: 'Blackhead Purulent Whitehead', 270: 'Blackhead Scars Sebo-crystan-conglo', 271: 'Blackhead Scars Sebo-crystan-conglo Syringoma', 272: 'Blackhead Scars Sebo-crystan-conglo Whitehead', 273: 'Blackhead Sebo-crystan-conglo', 274: 'Blackhead Syringoma', 275: 'Blackhead Syringoma Whitehead', 276: 'Blackhead Whitehead', 277: 'Conglobata', 278: 'Conglobata Crystanlline Cystic Papular Purulent', 279: 'Conglobata Crystanlline Papular', 280: 'Conglobata Crystanlline Purulent', 281: 'Conglobata Cystic Purulent', 282: 'Conglobata Papular', 283: 'Crystanlline', 284: 'Crystanlline Cystic', 285: 'Crystanlline Cystic Papular', 286: 'Crystanlline Cystic Papular Purulent', 287: 'Crystanlline Cystic Purulent', 288: 'Crystanlline Keloid', 289: 'Crystanlline Papular', 290: 'Crystanlline Papular Purulent', 291: 'Crystanlline Purulent', 292: 'Cystic', 293: 'Cystic Flat_wart', 294: 'Cystic Flat_wart Folliculitis Papular', 295: 'Cystic Flat_wart Folliculitis Papular Purulent Sebo-crystan-conglo Whitehead', 296: 'Cystic Flat_wart Keloid Milium Papular Purulent', 297: 'Cystic Flat_wart Keloid Milium Purulent', 298: 'Cystic Flat_wart Keloid Papular Purulent Sebo-crystan-conglo', 299: 'Cystic Flat_wart Keloid Papular Purulent Sebo-crystan-conglo Whitehead', 300: 'Cystic Flat_wart Milium Papular Purulent Sebo-crystan-conglo Whitehead', 301: 'Cystic Flat_wart Milium Papular Purulent Whitehead', 302: 'Cystic Flat_wart Milium Papular Sebo-crystan-conglo Whitehead', 303: 'Cystic Flat_wart Milium Papular Whitehead', 304: 'Cystic Flat_wart Papular', 305: 'Cystic Flat_wart Papular Purulent Scars Sebo-crystan-conglo', 306: 'Cystic Flat_wart Papular Purulent Scars Sebo-crystan-conglo Whitehead', 307: 'Cystic Flat_wart Papular Purulent Scars Whitehead', 308: 'Cystic Flat_wart Papular Purulent Sebo-crystan-conglo', 309: 'Cystic Flat_wart Papular Purulent Sebo-crystan-conglo Whitehead', 310: 'Cystic Flat_wart Papular Purulent Syringoma', 311: 'Cystic Flat_wart Papular Scars Whitehead', 312: 'Cystic Flat_wart Papular Sebo-crystan-conglo Whitehead', 313: 'Cystic Flat_wart Papular Whitehead', 314: 'Cystic Flat_wart Purulent Sebo-crystan-conglo Whitehead', 315: 'Cystic Flat_wart Whitehead', 316: 'Cystic Folliculitis', 317: 'Cystic Folliculitis Keloid', 318: 'Cystic Folliculitis Keloid Papular Purulent Sebo-crystan-conglo', 319: 'Cystic Folliculitis Keloid Papular Purulent Sebo-crystan-conglo Whitehead', 320: 'Cystic Folliculitis Keloid Papular Scars Sebo-crystan-conglo', 321: 'Cystic Folliculitis Keloid Papular Scars Sebo-crystan-conglo Whitehead', 322: 'Cystic Folliculitis Keloid Papular Sebo-crystan-conglo', 323: 'Cystic Folliculitis Keloid Papular Sebo-crystan-conglo Whitehead', 324: 'Cystic Folliculitis Keloid Papular Whitehead', 325: 'Cystic Folliculitis Milium Papular', 326: 'Cystic Folliculitis Milium Papular Purulent Sebo-crystan-conglo Whitehead', 327: 'Cystic Folliculitis Papular', 328: 'Cystic Folliculitis Papular Purulent Scars Sebo-crystan-conglo Whitehead', 329: 'Cystic Folliculitis Papular Purulent Scars Whitehead', 330: 'Cystic Folliculitis Papular Purulent Sebo-crystan-conglo', 331: 'Cystic Folliculitis Papular Purulent Sebo-crystan-conglo Whitehead', 332: 'Cystic Folliculitis Papular Purulent Whitehead', 333: 'Cystic Folliculitis Papular Sebo-crystan-conglo Whitehead', 334: 'Cystic Folliculitis Purulent Sebo-crystan-conglo', 335: 'Cystic Keloid', 336: 'Cystic Keloid Milium Papular Purulent Sebo-crystan-conglo Whitehead', 337: 'Cystic Keloid Papular', 338: 'Cystic Keloid Papular Purulent Scars Sebo-crystan-conglo Whitehead', 339: 'Cystic Keloid Papular Purulent Sebo-crystan-conglo', 340: 'Cystic Keloid Papular Purulent Sebo-crystan-conglo Whitehead', 341: 'Cystic Keloid Papular Purulent Syringoma', 342: 'Cystic Keloid Papular Purulent Whitehead', 343: 'Cystic Keloid Papular Sebo-crystan-conglo Whitehead', 344: 'Cystic Keloid Purulent Scars Sebo-crystan-conglo', 345: 'Cystic Keloid Purulent Scars Sebo-crystan-conglo Whitehead', 346: 'Cystic Keloid Purulent Scars Whitehead', 347: 'Cystic Milium Papular', 348: 'Cystic Milium Papular Purulent Scars Sebo-crystan-conglo Syringoma Whitehead', 349: 'Cystic Milium Papular Purulent Scars Sebo-crystan-conglo Whitehead', 350: 'Cystic Milium Papular Purulent Sebo-crystan-conglo', 351: 'Cystic Milium Papular Purulent Sebo-crystan-conglo Whitehead', 352: 'Cystic Milium Papular Purulent Whitehead', 353: 'Cystic Milium Papular Scars Sebo-crystan-conglo Whitehead', 354: 'Cystic Milium Papular Sebo-crystan-conglo Syringoma', 355: 'Cystic Milium Papular Sebo-crystan-conglo Whitehead', 356: 'Cystic Milium Papular Whitehead', 357: 'Cystic Milium Purulent', 358: 'Cystic Milium Purulent Scars Whitehead', 359: 'Cystic Milium Purulent Sebo-crystan-conglo', 360: 'Cystic Papular', 361: 'Cystic Papular Purulent', 362: 'Cystic Papular Purulent Scars', 363: 'Cystic Papular Purulent Scars Sebo-crystan-conglo', 364: 'Cystic Papular Purulent Scars Sebo-crystan-conglo Whitehead', 365: 'Cystic Papular Purulent Sebo-crystan-conglo', 366: 'Cystic Papular Purulent Sebo-crystan-conglo Syringoma', 367: 'Cystic Papular Purulent Sebo-crystan-conglo Syringoma Whitehead', 368: 'Cystic Papular Purulent Sebo-crystan-conglo Whitehead', 369: 'Cystic Papular Purulent Whitehead', 370: 'Cystic Papular Scars Sebo-crystan-conglo Whitehead', 371: 'Cystic Papular Scars Syringoma Whitehead', 372: 'Cystic Papular Scars Whitehead', 373: 'Cystic Papular Sebo-crystan-conglo Whitehead', 374: 'Cystic Papular Syringoma', 375: 'Cystic Purulent', 376: 'Cystic Purulent Scars Sebo-crystan-conglo Syringoma Whitehead', 377: 'Cystic Purulent Scars Whitehead', 378: 'Cystic Purulent Sebo-crystan-conglo Whitehead', 379: 'Cystic Purulent Whitehead', 380: 'Cystic Scars', 381: 'Cystic Sebo-crystan-conglo', 382: 'Cystic Syringoma Whitehead', 383: 'Cystic Whitehead', 384: 'Flat_wart', 385: 'Flat_wart Folliculitis Keloid Papular Syringoma', 386: 'Flat_wart Folliculitis Keloid Purulent', 387: 'Flat_wart Folliculitis Milium Papular', 388: 'Flat_wart Folliculitis Milium Papular Scars Whitehead', 389: 'Flat_wart Folliculitis Milium Scars Syringoma', 390: 'Flat_wart Folliculitis Papular', 391: 'Flat_wart Folliculitis Papular Purulent Sebo-crystan-conglo Whitehead', 392: 'Flat_wart Folliculitis Papular Purulent Syringoma', 393: 'Flat_wart Folliculitis Papular Purulent Whitehead', 394: 'Flat_wart Folliculitis Papular Scars Sebo-crystan-conglo', 395: 'Flat_wart Folliculitis Papular Whitehead', 396: 'Flat_wart Folliculitis Purulent Sebo-crystan-conglo', 397: 'Flat_wart Keloid', 398: 'Flat_wart Keloid Milium Scars Syringoma', 399: 'Flat_wart Keloid Papular Purulent', 400: 'Flat_wart Keloid Papular Purulent Scars', 401: 'Flat_wart Keloid Papular Purulent Scars Syringoma', 402: 'Flat_wart Keloid Papular Scars Whitehead', 403: 'Flat_wart Keloid Papular Sebo-crystan-conglo', 404: 'Flat_wart Keloid Papular Sebo-crystan-conglo Whitehead', 405: 'Flat_wart Keloid Scars Whitehead', 406: 'Flat_wart Milium', 407: 'Flat_wart Milium Papular Purulent Scars Sebo-crystan-conglo', 408: 'Flat_wart Milium Papular Purulent Scars Sebo-crystan-conglo Whitehead', 409: 'Flat_wart Milium Papular Purulent Sebo-crystan-conglo', 410: 'Flat_wart Milium Papular Purulent Sebo-crystan-conglo Syringoma Whitehead', 411: 'Flat_wart Milium Papular Purulent Sebo-crystan-conglo Whitehead', 412: 'Flat_wart Milium Papular Purulent Syringoma', 413: 'Flat_wart Milium Papular Purulent Syringoma Whitehead', 414: 'Flat_wart Milium Papular Purulent Whitehead', 415: 'Flat_wart Milium Papular Scars Syringoma', 416: 'Flat_wart Milium Papular Sebo-crystan-conglo', 417: 'Flat_wart Milium Papular Syringoma Whitehead', 418: 'Flat_wart Milium Papular Whitehead', 419: 'Flat_wart Milium Scars', 420: 'Flat_wart Milium Sebo-crystan-conglo Syringoma Whitehead', 421: 'Flat_wart Milium Syringoma', 422: 'Flat_wart Papular', 423: 'Flat_wart Papular Purulent', 424: 'Flat_wart Papular Purulent Scars Sebo-crystan-conglo', 425: 'Flat_wart Papular Purulent Scars Sebo-crystan-conglo Syringoma Whitehead', 426: 'Flat_wart Papular Purulent Scars Sebo-crystan-conglo Whitehead', 427: 'Flat_wart Papular Purulent Scars Whitehead', 428: 'Flat_wart Papular Purulent Sebo-crystan-conglo', 429: 'Flat_wart Papular Purulent Sebo-crystan-conglo Whitehead', 430: 'Flat_wart Papular Purulent Whitehead', 431: 'Flat_wart Papular Scars Sebo-crystan-conglo Whitehead', 432: 'Flat_wart Papular Scars Syringoma Whitehead', 433: 'Flat_wart Papular Scars Whitehead', 434: 'Flat_wart Papular Sebo-crystan-conglo Whitehead', 435: 'Flat_wart Papular Syringoma', 436: 'Flat_wart Papular Whitehead', 437: 'Flat_wart Purulent Scars Sebo-crystan-conglo Whitehead', 438: 'Flat_wart Purulent Scars Whitehead', 439: 'Flat_wart Purulent Sebo-crystan-conglo Whitehead', 440: 'Flat_wart Scars', 441: 'Flat_wart Whitehead', 442: 'Folliculitis', 443: 'Folliculitis Keloid', 444: 'Folliculitis Keloid Milium Papular Syringoma Whitehead', 445: 'Folliculitis Keloid Papular', 446: 'Folliculitis Keloid Papular Purulent Sebo-crystan-conglo', 447: 'Folliculitis Keloid Papular Whitehead', 448: 'Folliculitis Keloid Purulent Sebo-crystan-conglo', 449: 'Folliculitis Keloid Purulent Sebo-crystan-conglo Whitehead', 450: 'Folliculitis Milium Papular Purulent', 451: 'Folliculitis Milium Papular Purulent Sebo-crystan-conglo Whitehead', 452: 'Folliculitis Milium Papular Scars', 453: 'Folliculitis Milium Papular Scars Whitehead', 454: 'Folliculitis Milium Papular Sebo-crystan-conglo Whitehead', 455: 'Folliculitis Milium Papular Whitehead', 456: 'Folliculitis Milium Purulent Sebo-crystan-conglo', 457: 'Folliculitis Milium Whitehead', 458: 'Folliculitis Papular', 459: 'Folliculitis Papular Purulent', 460: 'Folliculitis Papular Purulent Scars Sebo-crystan-conglo', 461: 'Folliculitis Papular Purulent Scars Sebo-crystan-conglo Whitehead', 462: 'Folliculitis Papular Purulent Scars Whitehead', 463: 'Folliculitis Papular Purulent Sebo-crystan-conglo', 464: 'Folliculitis Papular Purulent Sebo-crystan-conglo Syringoma Whitehead', 465: 'Folliculitis Papular Purulent Sebo-crystan-conglo Whitehead', 466: 'Folliculitis Papular Purulent Whitehead', 467: 'Folliculitis Papular Scars Sebo-crystan-conglo', 468: 'Folliculitis Papular Scars Sebo-crystan-conglo Whitehead', 469: 'Folliculitis Papular Scars Syringoma', 470: 'Folliculitis Papular Scars Whitehead', 471: 'Folliculitis Papular Syringoma Whitehead', 472: 'Folliculitis Purulent Scars Sebo-crystan-conglo', 473: 'Folliculitis Purulent Sebo-crystan-conglo Whitehead', 474: 'Folliculitis Purulent Whitehead', 475: 'Folliculitis Whitehead', 476: 'Keloid', 477: 'Keloid Milium', 478: 'Keloid Milium Papular Purulent', 479: 'Keloid Milium Papular Purulent Scars Sebo-crystan-conglo', 480: 'Keloid Milium Papular Purulent Scars Whitehead', 481: 'Keloid Milium Papular Purulent Sebo-crystan-conglo', 482: 'Keloid Milium Papular Purulent Sebo-crystan-conglo Whitehead', 483: 'Keloid Milium Papular Scars Sebo-crystan-conglo Syringoma', 484: 'Keloid Milium Papular Scars Whitehead', 485: 'Keloid Milium Purulent Scars Sebo-crystan-conglo Whitehead', 486: 'Keloid Milium Scars', 487: 'Keloid Milium Scars Sebo-crystan-conglo Whitehead', 488: 'Keloid Papular', 489: 'Keloid Papular Purulent', 490: 'Keloid Papular Purulent Scars Sebo-crystan-conglo', 491: 'Keloid Papular Purulent Scars Sebo-crystan-conglo Syringoma Whitehead', 492: 'Keloid Papular Purulent Scars Whitehead', 493: 'Keloid Papular Purulent Sebo-crystan-conglo', 494: 'Keloid Papular Purulent Sebo-crystan-conglo Whitehead', 495: 'Keloid Papular Purulent Syringoma Whitehead', 496: 'Keloid Papular Purulent Whitehead', 497: 'Keloid Papular Scars Whitehead', 498: 'Keloid Papular Sebo-crystan-conglo', 499: 'Keloid Papular Sebo-crystan-conglo Whitehead', 500: 'Keloid Papular Syringoma', 501: 'Keloid Papular Whitehead', 502: 'Keloid Purulent', 503: 'Keloid Purulent Scars Sebo-crystan-conglo Whitehead', 504: 'Keloid Purulent Sebo-crystan-conglo', 505: 'Keloid Purulent Whitehead', 506: 'Keloid Sebo-crystan-conglo', 507: 'Keloid Whitehead', 508: 'Milium', 509: 'Milium Papular', 510: 'Milium Papular Purulent', 511: 'Milium Papular Purulent Scars Sebo-crystan-conglo', 512: 'Milium Papular Purulent Scars Sebo-crystan-conglo Syringoma Whitehead', 513: 'Milium Papular Purulent Scars Sebo-crystan-conglo Whitehead', 514: 'Milium Papular Purulent Scars Whitehead', 515: 'Milium Papular Purulent Sebo-crystan-conglo Syringoma', 516: 'Milium Papular Purulent Sebo-crystan-conglo Syringoma Whitehead', 517: 'Milium Papular Purulent Sebo-crystan-conglo Whitehead', 518: 'Milium Papular Purulent Whitehead', 519: 'Milium Papular Scars Sebo-crystan-conglo', 520: 'Milium Papular Scars Whitehead', 521: 'Milium Papular Sebo-crystan-conglo Syringoma Whitehead', 522: 'Milium Papular Sebo-crystan-conglo Whitehead', 523: 'Milium Papular Syringoma', 524: 'Milium Papular Syringoma Whitehead', 525: 'Milium Papular Whitehead', 526: 'Milium Purulent', 527: 'Milium Purulent Scars Sebo-crystan-conglo Syringoma', 528: 'Milium Purulent Scars Sebo-crystan-conglo Whitehead', 529: 'Milium Purulent Sebo-crystan-conglo', 530: 'Milium Purulent Sebo-crystan-conglo Whitehead', 531: 'Milium Syringoma', 532: 'Papular', 533: 'Papular Purulent', 534: 'Papular Purulent Scars', 535: 'Papular Purulent Scars Sebo-crystan-conglo', 536: 'Papular Purulent Scars Sebo-crystan-conglo Syringoma', 537: 'Papular Purulent Scars Sebo-crystan-conglo Syringoma Whitehead', 538: 'Papular Purulent Scars Sebo-crystan-conglo Whitehead', 539: 'Papular Purulent Scars Whitehead', 540: 'Papular Purulent Sebo-crystan-conglo', 541: 'Papular Purulent Sebo-crystan-conglo Syringoma', 542: 'Papular Purulent Sebo-crystan-conglo Syringoma Whitehead', 543: 'Papular Purulent Sebo-crystan-conglo Whitehead', 544: 'Papular Purulent Whitehead', 545: 'Papular Scars', 546: 'Papular Scars Sebo-crystan-conglo', 547: 'Papular Scars Sebo-crystan-conglo Syringoma Whitehead', 548: 'Papular Scars Sebo-crystan-conglo Whitehead', 549: 'Papular Scars Syringoma Whitehead', 550: 'Papular Scars Whitehead', 551: 'Papular Sebo-crystan-conglo', 552: 'Papular Sebo-crystan-conglo Syringoma Whitehead', 553: 'Papular Sebo-crystan-conglo Whitehead', 554: 'Papular Syringoma Whitehead', 555: 'Papular Whitehead', 556: 'Purulent', 557: 'Purulent Scars Sebo-crystan-conglo Whitehead', 558: 'Purulent Sebo-crystan-conglo', 559: 'Purulent Sebo-crystan-conglo Whitehead', 560: 'Purulent Whitehead', 561: 'Scars', 562: 'Scars Whitehead', 563: 'Sebo-crystan-conglo', 564: 'Sebo-crystan-conglo Whitehead', 565: 'Syringoma', 566: 'Syringoma Whitehead', 567: 'Whitehead'}\n"
          ]
        },
        {
          "output_type": "error",
          "ename": "FileNotFoundError",
          "evalue": "[Errno 2] No such file or directory: '/content/Acne-detection-1/test/'",
          "traceback": [
            "\u001b[0;31m---------------------------------------------------------------------------\u001b[0m",
            "\u001b[0;31mFileNotFoundError\u001b[0m                         Traceback (most recent call last)",
            "\u001b[0;32m/tmp/ipython-input-494506396.py\u001b[0m in \u001b[0;36m<cell line: 0>\u001b[0;34m()\u001b[0m\n\u001b[1;32m     11\u001b[0m \u001b[0;34m\u001b[0m\u001b[0m\n\u001b[1;32m     12\u001b[0m \u001b[0mtest_image_dir\u001b[0m \u001b[0;34m=\u001b[0m \u001b[0;34m'/content/Acne-detection-1/test/'\u001b[0m\u001b[0;34m\u001b[0m\u001b[0;34m\u001b[0m\u001b[0m\n\u001b[0;32m---> 13\u001b[0;31m \u001b[0msubdirectories\u001b[0m \u001b[0;34m=\u001b[0m \u001b[0;34m[\u001b[0m\u001b[0mos\u001b[0m\u001b[0;34m.\u001b[0m\u001b[0mpath\u001b[0m\u001b[0;34m.\u001b[0m\u001b[0mjoin\u001b[0m\u001b[0;34m(\u001b[0m\u001b[0mtest_image_dir\u001b[0m\u001b[0;34m,\u001b[0m \u001b[0md\u001b[0m\u001b[0;34m)\u001b[0m \u001b[0;32mfor\u001b[0m \u001b[0md\u001b[0m \u001b[0;32min\u001b[0m \u001b[0mos\u001b[0m\u001b[0;34m.\u001b[0m\u001b[0mlistdir\u001b[0m\u001b[0;34m(\u001b[0m\u001b[0mtest_image_dir\u001b[0m\u001b[0;34m)\u001b[0m \u001b[0;32mif\u001b[0m \u001b[0mos\u001b[0m\u001b[0;34m.\u001b[0m\u001b[0mpath\u001b[0m\u001b[0;34m.\u001b[0m\u001b[0misdir\u001b[0m\u001b[0;34m(\u001b[0m\u001b[0mos\u001b[0m\u001b[0;34m.\u001b[0m\u001b[0mpath\u001b[0m\u001b[0;34m.\u001b[0m\u001b[0mjoin\u001b[0m\u001b[0;34m(\u001b[0m\u001b[0mtest_image_dir\u001b[0m\u001b[0;34m,\u001b[0m \u001b[0md\u001b[0m\u001b[0;34m)\u001b[0m\u001b[0;34m)\u001b[0m\u001b[0;34m]\u001b[0m\u001b[0;34m\u001b[0m\u001b[0;34m\u001b[0m\u001b[0m\n\u001b[0m\u001b[1;32m     14\u001b[0m \u001b[0;34m\u001b[0m\u001b[0m\n\u001b[1;32m     15\u001b[0m \u001b[0;32mif\u001b[0m \u001b[0msubdirectories\u001b[0m\u001b[0;34m:\u001b[0m\u001b[0;34m\u001b[0m\u001b[0;34m\u001b[0m\u001b[0m\n",
            "\u001b[0;31mFileNotFoundError\u001b[0m: [Errno 2] No such file or directory: '/content/Acne-detection-1/test/'"
          ]
        }
      ]
    },
    {
      "cell_type": "code",
      "source": [
        "from ultralytics import YOLO\n",
        "\n",
        "model = YOLO('/content/best.pt')\n",
        "def predict_image(img):\n",
        "    results = model(img)  # Perform inference\n",
        "    # Extract top 1 prediction\n",
        "    for r in results:\n",
        "        top1_index = r.probs.top1\n",
        "        top1_conf = r.probs.top1conf\n",
        "        predicted_class = class_names[top1_index]\n",
        "        confidence = top1_conf\n",
        "        return f\"Predicted Class: {predicted_class}, Confidence: {confidence:.4f}\"\n",
        "\n",
        "import gradio as gr\n",
        "\n",
        "iface = gr.Interface(\n",
        "    fn=predict_image,\n",
        "    inputs=gr.Image(type=\"pil\"),\n",
        "    outputs=gr.Text(),\n",
        "    title=\"Acne Detection Model\",\n",
        "    description=\"Upload an image to get the predicted acne type.\"\n",
        ")\n",
        "iface.launch(debug=True, share=True)"
      ],
      "metadata": {
        "colab": {
          "base_uri": "https://localhost:8080/",
          "height": 688
        },
        "id": "pCM783PdrBlk",
        "outputId": "cd42410f-b433-42e5-f8cd-8b57c76b3359"
      },
      "execution_count": 10,
      "outputs": [
        {
          "output_type": "stream",
          "name": "stdout",
          "text": [
            "Colab notebook detected. This cell will run indefinitely so that you can see errors and logs. To turn off, set debug=False in launch().\n",
            "* Running on public URL: https://5d2cffbecc0a56c68c.gradio.live\n",
            "\n",
            "This share link expires in 1 week. For free permanent hosting and GPU upgrades, run `gradio deploy` from the terminal in the working directory to deploy to Hugging Face Spaces (https://huggingface.co/spaces)\n"
          ]
        },
        {
          "output_type": "display_data",
          "data": {
            "text/plain": [
              "<IPython.core.display.HTML object>"
            ],
            "text/html": [
              "<div><iframe src=\"https://5d2cffbecc0a56c68c.gradio.live\" width=\"100%\" height=\"500\" allow=\"autoplay; camera; microphone; clipboard-read; clipboard-write;\" frameborder=\"0\" allowfullscreen></iframe></div>"
            ]
          },
          "metadata": {}
        },
        {
          "output_type": "stream",
          "name": "stdout",
          "text": [
            "\n",
            "0: 224x224 Blackhead Keloid Papular 0.90, Acne 0.10, Acne Crystanlline Purulent 0.00, Blackhead Flat_wart Papular Purulent Sebo-crystan-conglo Whitehead 0.00, Blackhead Flat_wart Syringoma Whitehead 0.00, 3.5ms\n",
            "Speed: 5.5ms preprocess, 3.5ms inference, 0.1ms postprocess per image at shape (1, 3, 224, 224)\n",
            "Keyboard interruption in main thread... closing server.\n",
            "Killing tunnel 127.0.0.1:7860 <> https://5d2cffbecc0a56c68c.gradio.live\n"
          ]
        },
        {
          "output_type": "execute_result",
          "data": {
            "text/plain": []
          },
          "metadata": {},
          "execution_count": 10
        }
      ]
    },
    {
      "cell_type": "code",
      "source": [
        "!pip install streamlit pyngrok ultralytics"
      ],
      "metadata": {
        "colab": {
          "base_uri": "https://localhost:8080/"
        },
        "id": "uuhU3wGW3bID",
        "outputId": "0a71256d-273a-4911-dcbc-14224c2117e3"
      },
      "execution_count": 11,
      "outputs": [
        {
          "output_type": "stream",
          "name": "stdout",
          "text": [
            "Collecting streamlit\n",
            "  Downloading streamlit-1.48.1-py3-none-any.whl.metadata (9.5 kB)\n",
            "Collecting pyngrok\n",
            "  Downloading pyngrok-7.3.0-py3-none-any.whl.metadata (8.1 kB)\n",
            "Requirement already satisfied: ultralytics in /usr/local/lib/python3.12/dist-packages (8.3.182)\n",
            "Requirement already satisfied: altair!=5.4.0,!=5.4.1,<6,>=4.0 in /usr/local/lib/python3.12/dist-packages (from streamlit) (5.5.0)\n",
            "Requirement already satisfied: blinker<2,>=1.5.0 in /usr/local/lib/python3.12/dist-packages (from streamlit) (1.9.0)\n",
            "Requirement already satisfied: cachetools<7,>=4.0 in /usr/local/lib/python3.12/dist-packages (from streamlit) (5.5.2)\n",
            "Requirement already satisfied: click<9,>=7.0 in /usr/local/lib/python3.12/dist-packages (from streamlit) (8.2.1)\n",
            "Requirement already satisfied: numpy<3,>=1.23 in /usr/local/lib/python3.12/dist-packages (from streamlit) (2.0.2)\n",
            "Requirement already satisfied: packaging<26,>=20 in /usr/local/lib/python3.12/dist-packages (from streamlit) (25.0)\n",
            "Requirement already satisfied: pandas<3,>=1.4.0 in /usr/local/lib/python3.12/dist-packages (from streamlit) (2.2.2)\n",
            "Requirement already satisfied: pillow<12,>=7.1.0 in /usr/local/lib/python3.12/dist-packages (from streamlit) (11.3.0)\n",
            "Requirement already satisfied: protobuf<7,>=3.20 in /usr/local/lib/python3.12/dist-packages (from streamlit) (5.29.5)\n",
            "Requirement already satisfied: pyarrow>=7.0 in /usr/local/lib/python3.12/dist-packages (from streamlit) (18.1.0)\n",
            "Requirement already satisfied: requests<3,>=2.27 in /usr/local/lib/python3.12/dist-packages (from streamlit) (2.32.3)\n",
            "Requirement already satisfied: tenacity<10,>=8.1.0 in /usr/local/lib/python3.12/dist-packages (from streamlit) (9.1.2)\n",
            "Requirement already satisfied: toml<2,>=0.10.1 in /usr/local/lib/python3.12/dist-packages (from streamlit) (0.10.2)\n",
            "Requirement already satisfied: typing-extensions<5,>=4.4.0 in /usr/local/lib/python3.12/dist-packages (from streamlit) (4.14.1)\n",
            "Collecting watchdog<7,>=2.1.5 (from streamlit)\n",
            "  Downloading watchdog-6.0.0-py3-none-manylinux2014_x86_64.whl.metadata (44 kB)\n",
            "\u001b[2K     \u001b[90m━━━━━━━━━━━━━━━━━━━━━━━━━━━━━━━━━━━━━━━━\u001b[0m \u001b[32m44.3/44.3 kB\u001b[0m \u001b[31m4.2 MB/s\u001b[0m eta \u001b[36m0:00:00\u001b[0m\n",
            "\u001b[?25hRequirement already satisfied: gitpython!=3.1.19,<4,>=3.0.7 in /usr/local/lib/python3.12/dist-packages (from streamlit) (3.1.45)\n",
            "Collecting pydeck<1,>=0.8.0b4 (from streamlit)\n",
            "  Downloading pydeck-0.9.1-py2.py3-none-any.whl.metadata (4.1 kB)\n",
            "Requirement already satisfied: tornado!=6.5.0,<7,>=6.0.3 in /usr/local/lib/python3.12/dist-packages (from streamlit) (6.4.2)\n",
            "Requirement already satisfied: PyYAML>=5.1 in /usr/local/lib/python3.12/dist-packages (from pyngrok) (6.0.2)\n",
            "Requirement already satisfied: matplotlib>=3.3.0 in /usr/local/lib/python3.12/dist-packages (from ultralytics) (3.10.0)\n",
            "Requirement already satisfied: opencv-python>=4.6.0 in /usr/local/lib/python3.12/dist-packages (from ultralytics) (4.12.0.88)\n",
            "Requirement already satisfied: scipy>=1.4.1 in /usr/local/lib/python3.12/dist-packages (from ultralytics) (1.16.1)\n",
            "Requirement already satisfied: torch>=1.8.0 in /usr/local/lib/python3.12/dist-packages (from ultralytics) (2.8.0+cu126)\n",
            "Requirement already satisfied: torchvision>=0.9.0 in /usr/local/lib/python3.12/dist-packages (from ultralytics) (0.23.0+cu126)\n",
            "Requirement already satisfied: tqdm>=4.64.0 in /usr/local/lib/python3.12/dist-packages (from ultralytics) (4.67.1)\n",
            "Requirement already satisfied: psutil in /usr/local/lib/python3.12/dist-packages (from ultralytics) (5.9.5)\n",
            "Requirement already satisfied: py-cpuinfo in /usr/local/lib/python3.12/dist-packages (from ultralytics) (9.0.0)\n",
            "Requirement already satisfied: ultralytics-thop>=2.0.0 in /usr/local/lib/python3.12/dist-packages (from ultralytics) (2.0.16)\n",
            "Requirement already satisfied: jinja2 in /usr/local/lib/python3.12/dist-packages (from altair!=5.4.0,!=5.4.1,<6,>=4.0->streamlit) (3.1.6)\n",
            "Requirement already satisfied: jsonschema>=3.0 in /usr/local/lib/python3.12/dist-packages (from altair!=5.4.0,!=5.4.1,<6,>=4.0->streamlit) (4.25.0)\n",
            "Requirement already satisfied: narwhals>=1.14.2 in /usr/local/lib/python3.12/dist-packages (from altair!=5.4.0,!=5.4.1,<6,>=4.0->streamlit) (2.1.1)\n",
            "Requirement already satisfied: gitdb<5,>=4.0.1 in /usr/local/lib/python3.12/dist-packages (from gitpython!=3.1.19,<4,>=3.0.7->streamlit) (4.0.12)\n",
            "Requirement already satisfied: contourpy>=1.0.1 in /usr/local/lib/python3.12/dist-packages (from matplotlib>=3.3.0->ultralytics) (1.3.3)\n",
            "Requirement already satisfied: cycler>=0.10 in /usr/local/lib/python3.12/dist-packages (from matplotlib>=3.3.0->ultralytics) (0.12.1)\n",
            "Requirement already satisfied: fonttools>=4.22.0 in /usr/local/lib/python3.12/dist-packages (from matplotlib>=3.3.0->ultralytics) (4.59.1)\n",
            "Requirement already satisfied: kiwisolver>=1.3.1 in /usr/local/lib/python3.12/dist-packages (from matplotlib>=3.3.0->ultralytics) (1.4.9)\n",
            "Requirement already satisfied: pyparsing>=2.3.1 in /usr/local/lib/python3.12/dist-packages (from matplotlib>=3.3.0->ultralytics) (3.2.3)\n",
            "Requirement already satisfied: python-dateutil>=2.7 in /usr/local/lib/python3.12/dist-packages (from matplotlib>=3.3.0->ultralytics) (2.9.0.post0)\n",
            "Requirement already satisfied: pytz>=2020.1 in /usr/local/lib/python3.12/dist-packages (from pandas<3,>=1.4.0->streamlit) (2025.2)\n",
            "Requirement already satisfied: tzdata>=2022.7 in /usr/local/lib/python3.12/dist-packages (from pandas<3,>=1.4.0->streamlit) (2025.2)\n",
            "Requirement already satisfied: charset-normalizer<4,>=2 in /usr/local/lib/python3.12/dist-packages (from requests<3,>=2.27->streamlit) (3.4.3)\n",
            "Requirement already satisfied: idna<4,>=2.5 in /usr/local/lib/python3.12/dist-packages (from requests<3,>=2.27->streamlit) (3.7)\n",
            "Requirement already satisfied: urllib3<3,>=1.21.1 in /usr/local/lib/python3.12/dist-packages (from requests<3,>=2.27->streamlit) (2.5.0)\n",
            "Requirement already satisfied: certifi>=2017.4.17 in /usr/local/lib/python3.12/dist-packages (from requests<3,>=2.27->streamlit) (2025.8.3)\n",
            "Requirement already satisfied: filelock in /usr/local/lib/python3.12/dist-packages (from torch>=1.8.0->ultralytics) (3.19.1)\n",
            "Requirement already satisfied: setuptools in /usr/local/lib/python3.12/dist-packages (from torch>=1.8.0->ultralytics) (75.2.0)\n",
            "Requirement already satisfied: sympy>=1.13.3 in /usr/local/lib/python3.12/dist-packages (from torch>=1.8.0->ultralytics) (1.13.3)\n",
            "Requirement already satisfied: networkx in /usr/local/lib/python3.12/dist-packages (from torch>=1.8.0->ultralytics) (3.5)\n",
            "Requirement already satisfied: fsspec in /usr/local/lib/python3.12/dist-packages (from torch>=1.8.0->ultralytics) (2025.3.0)\n",
            "Requirement already satisfied: nvidia-cuda-nvrtc-cu12==12.6.77 in /usr/local/lib/python3.12/dist-packages (from torch>=1.8.0->ultralytics) (12.6.77)\n",
            "Requirement already satisfied: nvidia-cuda-runtime-cu12==12.6.77 in /usr/local/lib/python3.12/dist-packages (from torch>=1.8.0->ultralytics) (12.6.77)\n",
            "Requirement already satisfied: nvidia-cuda-cupti-cu12==12.6.80 in /usr/local/lib/python3.12/dist-packages (from torch>=1.8.0->ultralytics) (12.6.80)\n",
            "Requirement already satisfied: nvidia-cudnn-cu12==9.10.2.21 in /usr/local/lib/python3.12/dist-packages (from torch>=1.8.0->ultralytics) (9.10.2.21)\n",
            "Requirement already satisfied: nvidia-cublas-cu12==12.6.4.1 in /usr/local/lib/python3.12/dist-packages (from torch>=1.8.0->ultralytics) (12.6.4.1)\n",
            "Requirement already satisfied: nvidia-cufft-cu12==11.3.0.4 in /usr/local/lib/python3.12/dist-packages (from torch>=1.8.0->ultralytics) (11.3.0.4)\n",
            "Requirement already satisfied: nvidia-curand-cu12==10.3.7.77 in /usr/local/lib/python3.12/dist-packages (from torch>=1.8.0->ultralytics) (10.3.7.77)\n",
            "Requirement already satisfied: nvidia-cusolver-cu12==11.7.1.2 in /usr/local/lib/python3.12/dist-packages (from torch>=1.8.0->ultralytics) (11.7.1.2)\n",
            "Requirement already satisfied: nvidia-cusparse-cu12==12.5.4.2 in /usr/local/lib/python3.12/dist-packages (from torch>=1.8.0->ultralytics) (12.5.4.2)\n",
            "Requirement already satisfied: nvidia-cusparselt-cu12==0.7.1 in /usr/local/lib/python3.12/dist-packages (from torch>=1.8.0->ultralytics) (0.7.1)\n",
            "Requirement already satisfied: nvidia-nccl-cu12==2.27.3 in /usr/local/lib/python3.12/dist-packages (from torch>=1.8.0->ultralytics) (2.27.3)\n",
            "Requirement already satisfied: nvidia-nvtx-cu12==12.6.77 in /usr/local/lib/python3.12/dist-packages (from torch>=1.8.0->ultralytics) (12.6.77)\n",
            "Requirement already satisfied: nvidia-nvjitlink-cu12==12.6.85 in /usr/local/lib/python3.12/dist-packages (from torch>=1.8.0->ultralytics) (12.6.85)\n",
            "Requirement already satisfied: nvidia-cufile-cu12==1.11.1.6 in /usr/local/lib/python3.12/dist-packages (from torch>=1.8.0->ultralytics) (1.11.1.6)\n",
            "Requirement already satisfied: triton==3.4.0 in /usr/local/lib/python3.12/dist-packages (from torch>=1.8.0->ultralytics) (3.4.0)\n",
            "Requirement already satisfied: smmap<6,>=3.0.1 in /usr/local/lib/python3.12/dist-packages (from gitdb<5,>=4.0.1->gitpython!=3.1.19,<4,>=3.0.7->streamlit) (5.0.2)\n",
            "Requirement already satisfied: MarkupSafe>=2.0 in /usr/local/lib/python3.12/dist-packages (from jinja2->altair!=5.4.0,!=5.4.1,<6,>=4.0->streamlit) (3.0.2)\n",
            "Requirement already satisfied: attrs>=22.2.0 in /usr/local/lib/python3.12/dist-packages (from jsonschema>=3.0->altair!=5.4.0,!=5.4.1,<6,>=4.0->streamlit) (25.3.0)\n",
            "Requirement already satisfied: jsonschema-specifications>=2023.03.6 in /usr/local/lib/python3.12/dist-packages (from jsonschema>=3.0->altair!=5.4.0,!=5.4.1,<6,>=4.0->streamlit) (2025.4.1)\n",
            "Requirement already satisfied: referencing>=0.28.4 in /usr/local/lib/python3.12/dist-packages (from jsonschema>=3.0->altair!=5.4.0,!=5.4.1,<6,>=4.0->streamlit) (0.36.2)\n",
            "Requirement already satisfied: rpds-py>=0.7.1 in /usr/local/lib/python3.12/dist-packages (from jsonschema>=3.0->altair!=5.4.0,!=5.4.1,<6,>=4.0->streamlit) (0.27.0)\n",
            "Requirement already satisfied: six>=1.5 in /usr/local/lib/python3.12/dist-packages (from python-dateutil>=2.7->matplotlib>=3.3.0->ultralytics) (1.17.0)\n",
            "Requirement already satisfied: mpmath<1.4,>=1.1.0 in /usr/local/lib/python3.12/dist-packages (from sympy>=1.13.3->torch>=1.8.0->ultralytics) (1.3.0)\n",
            "Downloading streamlit-1.48.1-py3-none-any.whl (9.9 MB)\n",
            "\u001b[2K   \u001b[90m━━━━━━━━━━━━━━━━━━━━━━━━━━━━━━━━━━━━━━━━\u001b[0m \u001b[32m9.9/9.9 MB\u001b[0m \u001b[31m123.7 MB/s\u001b[0m eta \u001b[36m0:00:00\u001b[0m\n",
            "\u001b[?25hDownloading pyngrok-7.3.0-py3-none-any.whl (25 kB)\n",
            "Downloading pydeck-0.9.1-py2.py3-none-any.whl (6.9 MB)\n",
            "\u001b[2K   \u001b[90m━━━━━━━━━━━━━━━━━━━━━━━━━━━━━━━━━━━━━━━━\u001b[0m \u001b[32m6.9/6.9 MB\u001b[0m \u001b[31m109.2 MB/s\u001b[0m eta \u001b[36m0:00:00\u001b[0m\n",
            "\u001b[?25hDownloading watchdog-6.0.0-py3-none-manylinux2014_x86_64.whl (79 kB)\n",
            "\u001b[2K   \u001b[90m━━━━━━━━━━━━━━━━━━━━━━━━━━━━━━━━━━━━━━━━\u001b[0m \u001b[32m79.1/79.1 kB\u001b[0m \u001b[31m8.9 MB/s\u001b[0m eta \u001b[36m0:00:00\u001b[0m\n",
            "\u001b[?25hInstalling collected packages: watchdog, pyngrok, pydeck, streamlit\n",
            "Successfully installed pydeck-0.9.1 pyngrok-7.3.0 streamlit-1.48.1 watchdog-6.0.0\n"
          ]
        }
      ]
    },
    {
      "cell_type": "code",
      "source": [
        "%%writefile acne_app.py\n",
        "import streamlit as st\n",
        "from ultralytics import YOLO\n",
        "from PIL import Image\n",
        "\n",
        "# Load YOLO model\n",
        "model = YOLO(\"best.pt\")\n",
        "\n",
        "# Get class names\n",
        "class_names = model.names\n",
        "\n",
        "# Prediction function\n",
        "def predict_image(img):\n",
        "    results = model(img)\n",
        "    for r in results:\n",
        "        top1_index = r.probs.top1\n",
        "        top1_conf = r.probs.top1conf\n",
        "        predicted_class = class_names[top1_index]\n",
        "        confidence = top1_conf\n",
        "        return predicted_class, confidence\n",
        "\n",
        "# Streamlit UI\n",
        "st.title(\"🧴 Acne Detection Model\")\n",
        "st.write(\"Upload a face/skin image and the model will predict the type of acne.\")\n",
        "\n",
        "uploaded_file = st.file_uploader(\"Upload an image\", type=[\"jpg\", \"jpeg\", \"png\"])\n",
        "\n",
        "if uploaded_file is not None:\n",
        "    image = Image.open(uploaded_file)\n",
        "    st.image(image, caption=\"Uploaded Image\", use_container_width=True)\n",
        "\n",
        "    predicted_class, confidence = predict_image(image)\n",
        "\n",
        "    st.subheader(\"🔎 Prediction Result\")\n",
        "    st.write(f\"**Predicted Class:** {predicted_class}\")\n",
        "    st.write(f\"**Confidence:** {confidence:.4f}\")\n"
      ],
      "metadata": {
        "colab": {
          "base_uri": "https://localhost:8080/"
        },
        "id": "y7ztNK5C3b-W",
        "outputId": "4a876ce1-2fec-425c-d431-321787a87d13"
      },
      "execution_count": 12,
      "outputs": [
        {
          "output_type": "stream",
          "name": "stdout",
          "text": [
            "Writing acne_app.py\n"
          ]
        }
      ]
    },
    {
      "cell_type": "code",
      "source": [
        "from pyngrok import ngrok\n",
        "import os\n",
        "\n",
        "# Kill any previous tunnels\n",
        "ngrok.kill()\n",
        "\n",
        "# Start streamlit in background\n",
        "!streamlit run acne_app.py &\n",
        "\n",
        "# Create public URL\n",
        "public_url = ngrok.connect(8501)\n",
        "print(\"Streamlit App URL:\", public_url)\n"
      ],
      "metadata": {
        "colab": {
          "base_uri": "https://localhost:8080/",
          "height": 672
        },
        "id": "uEOKtJva3guj",
        "outputId": "d57a221f-237b-482c-fa66-36cb47814957"
      },
      "execution_count": 13,
      "outputs": [
        {
          "output_type": "stream",
          "name": "stdout",
          "text": [
            "\n",
            "Collecting usage statistics. To deactivate, set browser.gatherUsageStats to false.\n",
            "\u001b[0m\n",
            "\u001b[0m\n",
            "\u001b[34m\u001b[1m  You can now view your Streamlit app in your browser.\u001b[0m\n",
            "\u001b[0m\n",
            "\u001b[34m  Local URL: \u001b[0m\u001b[1mhttp://localhost:8501\u001b[0m\n",
            "\u001b[34m  Network URL: \u001b[0m\u001b[1mhttp://172.28.0.12:8501\u001b[0m\n",
            "\u001b[34m  External URL: \u001b[0m\u001b[1mhttp://35.240.158.176:8501\u001b[0m\n",
            "\u001b[0m\n",
            "\u001b[34m  Stopping...\u001b[0m\n"
          ]
        },
        {
          "output_type": "stream",
          "name": "stderr",
          "text": [
            "ERROR:pyngrok.process.ngrok:t=2025-08-20T14:26:21+0000 lvl=eror msg=\"failed to reconnect session\" obj=tunnels.session err=\"authentication failed: Usage of ngrok requires a verified account and authtoken.\\n\\nSign up for an account: https://dashboard.ngrok.com/signup\\nInstall your authtoken: https://dashboard.ngrok.com/get-started/your-authtoken\\r\\n\\r\\nERR_NGROK_4018\\r\\n\"\n",
            "ERROR:pyngrok.process.ngrok:t=2025-08-20T14:26:21+0000 lvl=eror msg=\"session closing\" obj=tunnels.session err=\"authentication failed: Usage of ngrok requires a verified account and authtoken.\\n\\nSign up for an account: https://dashboard.ngrok.com/signup\\nInstall your authtoken: https://dashboard.ngrok.com/get-started/your-authtoken\\r\\n\\r\\nERR_NGROK_4018\\r\\n\"\n",
            "ERROR:pyngrok.process.ngrok:t=2025-08-20T14:26:21+0000 lvl=eror msg=\"terminating with error\" obj=app err=\"authentication failed: Usage of ngrok requires a verified account and authtoken.\\n\\nSign up for an account: https://dashboard.ngrok.com/signup\\nInstall your authtoken: https://dashboard.ngrok.com/get-started/your-authtoken\\r\\n\\r\\nERR_NGROK_4018\\r\\n\"\n",
            "CRITICAL:pyngrok.process.ngrok:t=2025-08-20T14:26:21+0000 lvl=crit msg=\"command failed\" err=\"authentication failed: Usage of ngrok requires a verified account and authtoken.\\n\\nSign up for an account: https://dashboard.ngrok.com/signup\\nInstall your authtoken: https://dashboard.ngrok.com/get-started/your-authtoken\\r\\n\\r\\nERR_NGROK_4018\\r\\n\"\n"
          ]
        },
        {
          "output_type": "error",
          "ename": "PyngrokNgrokError",
          "evalue": "The ngrok process errored on start: authentication failed: Usage of ngrok requires a verified account and authtoken.\\n\\nSign up for an account: https://dashboard.ngrok.com/signup\\nInstall your authtoken: https://dashboard.ngrok.com/get-started/your-authtoken\\r\\n\\r\\nERR_NGROK_4018\\r\\n.",
          "traceback": [
            "\u001b[0;31m---------------------------------------------------------------------------\u001b[0m",
            "\u001b[0;31mPyngrokNgrokError\u001b[0m                         Traceback (most recent call last)",
            "\u001b[0;32m/tmp/ipython-input-1010616451.py\u001b[0m in \u001b[0;36m<cell line: 0>\u001b[0;34m()\u001b[0m\n\u001b[1;32m      9\u001b[0m \u001b[0;34m\u001b[0m\u001b[0m\n\u001b[1;32m     10\u001b[0m \u001b[0;31m# Create public URL\u001b[0m\u001b[0;34m\u001b[0m\u001b[0;34m\u001b[0m\u001b[0m\n\u001b[0;32m---> 11\u001b[0;31m \u001b[0mpublic_url\u001b[0m \u001b[0;34m=\u001b[0m \u001b[0mngrok\u001b[0m\u001b[0;34m.\u001b[0m\u001b[0mconnect\u001b[0m\u001b[0;34m(\u001b[0m\u001b[0;36m8501\u001b[0m\u001b[0;34m)\u001b[0m\u001b[0;34m\u001b[0m\u001b[0;34m\u001b[0m\u001b[0m\n\u001b[0m\u001b[1;32m     12\u001b[0m \u001b[0mprint\u001b[0m\u001b[0;34m(\u001b[0m\u001b[0;34m\"Streamlit App URL:\"\u001b[0m\u001b[0;34m,\u001b[0m \u001b[0mpublic_url\u001b[0m\u001b[0;34m)\u001b[0m\u001b[0;34m\u001b[0m\u001b[0;34m\u001b[0m\u001b[0m\n",
            "\u001b[0;32m/usr/local/lib/python3.12/dist-packages/pyngrok/ngrok.py\u001b[0m in \u001b[0;36mconnect\u001b[0;34m(addr, proto, name, pyngrok_config, **options)\u001b[0m\n\u001b[1;32m    383\u001b[0m     \u001b[0mlogger\u001b[0m\u001b[0;34m.\u001b[0m\u001b[0minfo\u001b[0m\u001b[0;34m(\u001b[0m\u001b[0;34mf\"Opening tunnel named: {name}\"\u001b[0m\u001b[0;34m)\u001b[0m\u001b[0;34m\u001b[0m\u001b[0;34m\u001b[0m\u001b[0m\n\u001b[1;32m    384\u001b[0m \u001b[0;34m\u001b[0m\u001b[0m\n\u001b[0;32m--> 385\u001b[0;31m     \u001b[0mapi_url\u001b[0m \u001b[0;34m=\u001b[0m \u001b[0mget_ngrok_process\u001b[0m\u001b[0;34m(\u001b[0m\u001b[0mpyngrok_config\u001b[0m\u001b[0;34m)\u001b[0m\u001b[0;34m.\u001b[0m\u001b[0mapi_url\u001b[0m\u001b[0;34m\u001b[0m\u001b[0;34m\u001b[0m\u001b[0m\n\u001b[0m\u001b[1;32m    386\u001b[0m \u001b[0;34m\u001b[0m\u001b[0m\n\u001b[1;32m    387\u001b[0m     \u001b[0mlogger\u001b[0m\u001b[0;34m.\u001b[0m\u001b[0mdebug\u001b[0m\u001b[0;34m(\u001b[0m\u001b[0;34mf\"Creating tunnel with options: {options}\"\u001b[0m\u001b[0;34m)\u001b[0m\u001b[0;34m\u001b[0m\u001b[0;34m\u001b[0m\u001b[0m\n",
            "\u001b[0;32m/usr/local/lib/python3.12/dist-packages/pyngrok/ngrok.py\u001b[0m in \u001b[0;36mget_ngrok_process\u001b[0;34m(pyngrok_config)\u001b[0m\n\u001b[1;32m    201\u001b[0m     \u001b[0minstall_ngrok\u001b[0m\u001b[0;34m(\u001b[0m\u001b[0mpyngrok_config\u001b[0m\u001b[0;34m)\u001b[0m\u001b[0;34m\u001b[0m\u001b[0;34m\u001b[0m\u001b[0m\n\u001b[1;32m    202\u001b[0m \u001b[0;34m\u001b[0m\u001b[0m\n\u001b[0;32m--> 203\u001b[0;31m     \u001b[0;32mreturn\u001b[0m \u001b[0mprocess\u001b[0m\u001b[0;34m.\u001b[0m\u001b[0mget_process\u001b[0m\u001b[0;34m(\u001b[0m\u001b[0mpyngrok_config\u001b[0m\u001b[0;34m)\u001b[0m\u001b[0;34m\u001b[0m\u001b[0;34m\u001b[0m\u001b[0m\n\u001b[0m\u001b[1;32m    204\u001b[0m \u001b[0;34m\u001b[0m\u001b[0m\n\u001b[1;32m    205\u001b[0m \u001b[0;34m\u001b[0m\u001b[0m\n",
            "\u001b[0;32m/usr/local/lib/python3.12/dist-packages/pyngrok/process.py\u001b[0m in \u001b[0;36mget_process\u001b[0;34m(pyngrok_config)\u001b[0m\n\u001b[1;32m    269\u001b[0m         \u001b[0;32mreturn\u001b[0m \u001b[0m_current_processes\u001b[0m\u001b[0;34m[\u001b[0m\u001b[0mpyngrok_config\u001b[0m\u001b[0;34m.\u001b[0m\u001b[0mngrok_path\u001b[0m\u001b[0;34m]\u001b[0m\u001b[0;34m\u001b[0m\u001b[0;34m\u001b[0m\u001b[0m\n\u001b[1;32m    270\u001b[0m \u001b[0;34m\u001b[0m\u001b[0m\n\u001b[0;32m--> 271\u001b[0;31m     \u001b[0;32mreturn\u001b[0m \u001b[0m_start_process\u001b[0m\u001b[0;34m(\u001b[0m\u001b[0mpyngrok_config\u001b[0m\u001b[0;34m)\u001b[0m\u001b[0;34m\u001b[0m\u001b[0;34m\u001b[0m\u001b[0m\n\u001b[0m\u001b[1;32m    272\u001b[0m \u001b[0;34m\u001b[0m\u001b[0m\n\u001b[1;32m    273\u001b[0m \u001b[0;34m\u001b[0m\u001b[0m\n",
            "\u001b[0;32m/usr/local/lib/python3.12/dist-packages/pyngrok/process.py\u001b[0m in \u001b[0;36m_start_process\u001b[0;34m(pyngrok_config)\u001b[0m\n\u001b[1;32m    445\u001b[0m \u001b[0;34m\u001b[0m\u001b[0m\n\u001b[1;32m    446\u001b[0m         \u001b[0;32mif\u001b[0m \u001b[0mngrok_process\u001b[0m\u001b[0;34m.\u001b[0m\u001b[0mstartup_error\u001b[0m \u001b[0;32mis\u001b[0m \u001b[0;32mnot\u001b[0m \u001b[0;32mNone\u001b[0m\u001b[0;34m:\u001b[0m\u001b[0;34m\u001b[0m\u001b[0;34m\u001b[0m\u001b[0m\n\u001b[0;32m--> 447\u001b[0;31m             raise PyngrokNgrokError(f\"The ngrok process errored on start: {ngrok_process.startup_error}.\",\n\u001b[0m\u001b[1;32m    448\u001b[0m                                     \u001b[0mngrok_process\u001b[0m\u001b[0;34m.\u001b[0m\u001b[0mlogs\u001b[0m\u001b[0;34m,\u001b[0m\u001b[0;34m\u001b[0m\u001b[0;34m\u001b[0m\u001b[0m\n\u001b[1;32m    449\u001b[0m                                     ngrok_process.startup_error)\n",
            "\u001b[0;31mPyngrokNgrokError\u001b[0m: The ngrok process errored on start: authentication failed: Usage of ngrok requires a verified account and authtoken.\\n\\nSign up for an account: https://dashboard.ngrok.com/signup\\nInstall your authtoken: https://dashboard.ngrok.com/get-started/your-authtoken\\r\\n\\r\\nERR_NGROK_4018\\r\\n."
          ]
        }
      ]
    }
  ]
}